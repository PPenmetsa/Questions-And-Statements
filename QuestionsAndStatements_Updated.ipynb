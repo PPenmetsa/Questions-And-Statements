{
 "cells": [
  {
   "cell_type": "code",
   "execution_count": 3,
   "metadata": {
    "colab": {},
    "colab_type": "code",
    "id": "ICmQXTwXPdA0"
   },
   "outputs": [],
   "source": [
    "import csv\n",
    "import numpy as np\n",
    "import pandas as pd\n",
    "\n",
    "from sklearn.model_selection import GridSearchCV\n",
    "from sklearn.model_selection import train_test_split\n",
    "from sklearn.metrics import classification_report\n",
    "\n",
    "from sklearn.linear_model import LogisticRegression"
   ]
  },
  {
   "cell_type": "code",
   "execution_count": 4,
   "metadata": {
    "colab": {},
    "colab_type": "code",
    "id": "wvyIBk2isL3c"
   },
   "outputs": [],
   "source": [
    "#PROD FILE: CSV TO DF\n",
    "\n",
    "origdf = pd.read_csv('testData.csv')\n",
    "origdf.dropna(axis = 1, how = 'all', inplace = True)"
   ]
  },
  {
   "cell_type": "code",
   "execution_count": 5,
   "metadata": {
    "colab": {
     "base_uri": "https://localhost:8080/",
     "height": 34
    },
    "colab_type": "code",
    "id": "1BQFVr5ws__G",
    "outputId": "f8c694b5-a3c4-4e6f-e91e-239646edaff3"
   },
   "outputs": [
    {
     "data": {
      "text/html": [
       "<div>\n",
       "<style scoped>\n",
       "    .dataframe tbody tr th:only-of-type {\n",
       "        vertical-align: middle;\n",
       "    }\n",
       "\n",
       "    .dataframe tbody tr th {\n",
       "        vertical-align: top;\n",
       "    }\n",
       "\n",
       "    .dataframe thead th {\n",
       "        text-align: right;\n",
       "    }\n",
       "</style>\n",
       "<table border=\"1\" class=\"dataframe\">\n",
       "  <thead>\n",
       "    <tr style=\"text-align: right;\">\n",
       "      <th></th>\n",
       "      <th>Sentence</th>\n",
       "      <th>QorA</th>\n",
       "    </tr>\n",
       "  </thead>\n",
       "  <tbody>\n",
       "    <tr>\n",
       "      <th>0</th>\n",
       "      <td>Did his mother die of pneumonia</td>\n",
       "      <td>1</td>\n",
       "    </tr>\n",
       "    <tr>\n",
       "      <th>1</th>\n",
       "      <td>Is it derived from the Latin spoken by the rom...</td>\n",
       "      <td>1</td>\n",
       "    </tr>\n",
       "    <tr>\n",
       "      <th>2</th>\n",
       "      <td>Why did Bequerel win the Nobel Prize in Physics</td>\n",
       "      <td>1</td>\n",
       "    </tr>\n",
       "    <tr>\n",
       "      <th>3</th>\n",
       "      <td>Where is Jakarta located</td>\n",
       "      <td>1</td>\n",
       "    </tr>\n",
       "    <tr>\n",
       "      <th>4</th>\n",
       "      <td>9  screens, but felt that was too much of a sa...</td>\n",
       "      <td>0</td>\n",
       "    </tr>\n",
       "  </tbody>\n",
       "</table>\n",
       "</div>"
      ],
      "text/plain": [
       "                                            Sentence  QorA\n",
       "0                   Did his mother die of pneumonia      1\n",
       "1  Is it derived from the Latin spoken by the rom...     1\n",
       "2   Why did Bequerel win the Nobel Prize in Physics      1\n",
       "3                           Where is Jakarta located     1\n",
       "4  9  screens, but felt that was too much of a sa...     0"
      ]
     },
     "execution_count": 5,
     "metadata": {},
     "output_type": "execute_result"
    }
   ],
   "source": [
    "origdf.head()"
   ]
  },
  {
   "cell_type": "markdown",
   "metadata": {
    "colab_type": "text",
    "id": "wfWNDi00E52N"
   },
   "source": [
    "## **EXPLORATORY DATA ANALYSIS**"
   ]
  },
  {
   "cell_type": "code",
   "execution_count": 6,
   "metadata": {
    "colab": {},
    "colab_type": "code",
    "id": "vqIuyJN3FDSf"
   },
   "outputs": [],
   "source": [
    "import seaborn as sns\n",
    "import matplotlib as plt"
   ]
  },
  {
   "cell_type": "code",
   "execution_count": 7,
   "metadata": {
    "colab": {
     "base_uri": "https://localhost:8080/",
     "height": 412
    },
    "colab_type": "code",
    "id": "KMHgRTo7ITRA",
    "outputId": "53e63dfd-5917-431d-f36d-d651e8be0b95"
   },
   "outputs": [
    {
     "data": {
      "text/plain": [
       "<matplotlib.axes._subplots.AxesSubplot at 0x11db41e10>"
      ]
     },
     "execution_count": 7,
     "metadata": {},
     "output_type": "execute_result"
    },
    {
     "data": {
      "image/png": "[encoded data removed]",
      "text/plain": [
       "<Figure size 432x288 with 1 Axes>"
      ]
     },
     "metadata": {
      "needs_background": "light"
     },
     "output_type": "display_data"
    }
   ],
   "source": [
    "sns.countplot(x = origdf['QorA'], data = origdf)\n",
    "# 0 is Statement\n",
    "# 1 is Question"
   ]
  },
  {
   "cell_type": "markdown",
   "metadata": {},
   "source": [
    "Models"
   ]
  },
  {
   "cell_type": "code",
   "execution_count": 40,
   "metadata": {},
   "outputs": [],
   "source": [
    "from sklearn import linear_model\n",
    "from sklearn.ensemble import VotingClassifier\n",
    "from sklearn.feature_extraction.text import CountVectorizer, TfidfVectorizer\n",
    "\n",
    "from sklearn.naive_bayes import MultinomialNB\n",
    "from sklearn.pipeline import Pipeline"
   ]
  },
  {
   "cell_type": "code",
   "execution_count": null,
   "metadata": {},
   "outputs": [],
   "source": [
    "# votingClassifier with gridSearch \n",
    "# tune tfidf and count vectorizer too (no n-grams / bi-grams)"
   ]
  },
  {
   "cell_type": "code",
   "execution_count": 43,
   "metadata": {},
   "outputs": [],
   "source": [
    "cv_logPipe = Pipeline([('cv', CountVectorizer(analyzer = 'word', binary= True)),('logreg', linear_model.LogisticRegression())])\n"
   ]
  },
  {
   "cell_type": "code",
   "execution_count": 44,
   "metadata": {},
   "outputs": [],
   "source": [
    "cv_mnbPipe = Pipeline([('cv', CountVectorizer(analyzer = 'word', binary= True)),('mnb', MultinomialNB())])"
   ]
  },
  {
   "cell_type": "code",
   "execution_count": 46,
   "metadata": {},
   "outputs": [],
   "source": [
    "tfidf_mnbPipe = Pipeline([('tfidf', TfidfVectorizer(analyzer = 'word', smooth_idf = 1)),('mnb', MultinomialNB())])"
   ]
  },
  {
   "cell_type": "code",
   "execution_count": 48,
   "metadata": {},
   "outputs": [],
   "source": [
    "tfidf_logPipe = Pipeline([('tfidf', TfidfVectorizer(analyzer = 'word', smooth_idf = 1)),('logreg', linear_model.LogisticRegression())])\n",
    "\n"
   ]
  },
  {
   "cell_type": "code",
   "execution_count": 49,
   "metadata": {},
   "outputs": [],
   "source": [
    "classifiers = [(\"cv_log\", cv_logPipe), (\"cv_mnb\", cv_mnbPipe),(\"tfidf_mnb\", tfidf_mnbPipe), (\"tfidf_log\", tfidf_logPipe)]\n",
    "\n",
    "mixed_pipe = Pipeline([(\"voting\", VotingClassifier(classifiers, voting=\"soft\"))])\n"
   ]
  },
  {
   "cell_type": "code",
   "execution_count": 50,
   "metadata": {},
   "outputs": [],
   "source": [
    "from sklearn.model_selection import GridSearchCV"
   ]
  },
  {
   "cell_type": "code",
   "execution_count": 60,
   "metadata": {},
   "outputs": [],
   "source": [
    "def combinations_on_off(num_classifiers):\n",
    "    return [[int(x) for x in list(\"{0:0b}\".format(i).zfill(num_classifiers))]\n",
    "            for i in range(1, 2 ** num_classifiers)]\n",
    "\n",
    "\n",
    "param_grid = dict(\n",
    "    voting__weights=combinations_on_off(len(classifiers))\n",
    ")"
   ]
  },
  {
   "cell_type": "code",
   "execution_count": 61,
   "metadata": {},
   "outputs": [],
   "source": [
    "\n",
    "grid_search = GridSearchCV(mixed_pipe, param_grid=param_grid, n_jobs=-1, verbose=10, scoring=\"f1\", cv= 10)"
   ]
  },
  {
   "cell_type": "code",
   "execution_count": 62,
   "metadata": {},
   "outputs": [],
   "source": [
    "x_train, x_test, y_train, y_test = train_test_split(origdf['Sentence'], origdf['QorA'], test_size = 0.33)"
   ]
  },
  {
   "cell_type": "code",
   "execution_count": 63,
   "metadata": {},
   "outputs": [
    {
     "name": "stdout",
     "output_type": "stream",
     "text": [
      "Fitting 10 folds for each of 15 candidates, totalling 150 fits\n"
     ]
    },
    {
     "name": "stderr",
     "output_type": "stream",
     "text": [
      "[Parallel(n_jobs=-1)]: Using backend LokyBackend with 8 concurrent workers.\n",
      "[Parallel(n_jobs=-1)]: Done   2 tasks      | elapsed:    1.8s\n",
      "[Parallel(n_jobs=-1)]: Done   9 tasks      | elapsed:    2.4s\n",
      "[Parallel(n_jobs=-1)]: Done  16 tasks      | elapsed:    2.4s\n",
      "[Parallel(n_jobs=-1)]: Done  25 tasks      | elapsed:    3.5s\n",
      "[Parallel(n_jobs=-1)]: Done  34 tasks      | elapsed:    4.1s\n",
      "[Parallel(n_jobs=-1)]: Done  45 tasks      | elapsed:    4.7s\n",
      "[Parallel(n_jobs=-1)]: Done  56 tasks      | elapsed:    5.3s\n",
      "[Parallel(n_jobs=-1)]: Done  69 tasks      | elapsed:    6.4s\n",
      "[Parallel(n_jobs=-1)]: Done  82 tasks      | elapsed:    7.5s\n",
      "[Parallel(n_jobs=-1)]: Done  97 tasks      | elapsed:    8.8s\n",
      "[Parallel(n_jobs=-1)]: Done 112 tasks      | elapsed:    9.9s\n",
      "[Parallel(n_jobs=-1)]: Done 129 tasks      | elapsed:   11.6s\n",
      "[Parallel(n_jobs=-1)]: Done 150 out of 150 | elapsed:   13.0s finished\n",
      "/usr/local/lib/python3.7/site-packages/sklearn/linear_model/logistic.py:433: FutureWarning: Default solver will be changed to 'lbfgs' in 0.22. Specify a solver to silence this warning.\n",
      "  FutureWarning)\n",
      "/usr/local/lib/python3.7/site-packages/sklearn/linear_model/logistic.py:433: FutureWarning: Default solver will be changed to 'lbfgs' in 0.22. Specify a solver to silence this warning.\n",
      "  FutureWarning)\n"
     ]
    },
    {
     "data": {
      "text/plain": [
       "GridSearchCV(cv=10, error_score='raise-deprecating',\n",
       "       estimator=Pipeline(memory=None,\n",
       "     steps=[('voting', VotingClassifier(estimators=[('cv_log', Pipeline(memory=None,\n",
       "     steps=[('cv', CountVectorizer(analyzer='word', binary=False, decode_error='strict',\n",
       "        dtype=<class 'numpy.int64'>, encoding='utf-8', input='content',\n",
       "        lowercase=True, max_df=1.0, max_features=None, min_...warm_start=False))]))],\n",
       "         flatten_transform=None, n_jobs=None, voting='soft', weights=None))]),\n",
       "       fit_params=None, iid='warn', n_jobs=-1,\n",
       "       param_grid={'voting__weights': [[0, 0, 0, 1], [0, 0, 1, 0], [0, 0, 1, 1], [0, 1, 0, 0], [0, 1, 0, 1], [0, 1, 1, 0], [0, 1, 1, 1], [1, 0, 0, 0], [1, 0, 0, 1], [1, 0, 1, 0], [1, 0, 1, 1], [1, 1, 0, 0], [1, 1, 0, 1], [1, 1, 1, 0], [1, 1, 1, 1]]},\n",
       "       pre_dispatch='2*n_jobs', refit=True, return_train_score='warn',\n",
       "       scoring='f1', verbose=10)"
      ]
     },
     "execution_count": 63,
     "metadata": {},
     "output_type": "execute_result"
    }
   ],
   "source": [
    "grid_search.fit(x_train, y_train)"
   ]
  },
  {
   "cell_type": "code",
   "execution_count": 64,
   "metadata": {},
   "outputs": [
    {
     "name": "stdout",
     "output_type": "stream",
     "text": [
      "{'voting__weights': [0, 0, 0, 1]} 0.9867211068425771\n",
      "{'voting__weights': [0, 0, 1, 0]} 0.9938844525075584\n",
      "{'voting__weights': [0, 0, 1, 1]} 0.9945224953305378\n",
      "{'voting__weights': [0, 1, 0, 0]} 0.9901578378548065\n",
      "{'voting__weights': [0, 1, 0, 1]} 0.9932593372400313\n",
      "{'voting__weights': [0, 1, 1, 0]} 0.9920240207514691\n",
      "{'voting__weights': [0, 1, 1, 1]} 0.9938795941011663\n",
      "{'voting__weights': [1, 0, 0, 0]} 0.9912252359292587\n",
      "{'voting__weights': [1, 0, 0, 1]} 0.9909076729205086\n",
      "{'voting__weights': [1, 0, 1, 0]} 0.9942237316804949\n",
      "{'voting__weights': [1, 0, 1, 1]} 0.993914937950237\n",
      "{'voting__weights': [1, 1, 0, 0]} 0.9941846471208646\n",
      "{'voting__weights': [1, 1, 0, 1]} 0.9932952158147441\n",
      "{'voting__weights': [1, 1, 1, 0]} 0.994800008750926\n",
      "{'voting__weights': [1, 1, 1, 1]} 0.994204003692919\n"
     ]
    }
   ],
   "source": [
    "cv_results = grid_search.cv_results_\n",
    "for mean_score, params in zip(cv_results[\"mean_test_score\"], cv_results[\"params\"]):\n",
    "    print(params, mean_score)"
   ]
  },
  {
   "cell_type": "code",
   "execution_count": null,
   "metadata": {},
   "outputs": [],
   "source": []
  },
  {
   "cell_type": "code",
   "execution_count": null,
   "metadata": {},
   "outputs": [],
   "source": [
    "##ROUGH\n",
    "\n",
    "''''\n",
    "def threeSplit_SortData(train, test, validate):\n",
    "    train_q = train['Sentence']\n",
    "    test_q = test['Sentence']\n",
    "    val_q = validate['Sentence']\n",
    "    train_rest = train.copy().drop(['Sentence','QorA'], axis = 1)\n",
    "    test_rest = test.copy().drop(['Sentence','QorA'], axis = 1)\n",
    "    val_rest = validate.copy().drop(['Sentence','QorA'], axis = 1)\n",
    "    train_ans = train['QorA']\n",
    "    test_ans = test['QorA']\n",
    "    val_ans = validate['QorA']\n",
    "    return train_q, test_q, val_q, train_rest, test_rest, val_rest, train_ans, test_ans, val_ans\n",
    "    \n",
    "    \n",
    "#SPLIT PROD FILE INTO TRAIN, TEST, VALIDATION SECTIONS\n",
    "\n",
    "#def threeSplit_DataSet(whole):\n",
    "#    train, validate, test = np.split(whole.sample(frac = 1), [int(0.6*len(whole)), int(0.8*len(whole))])\n",
    "#    return train, validate, test\n",
    "\n",
    "def train_validate_test_split(df, train_percent=.6, validate_percent=.2):\n",
    "    #np.random.seed(seed)\n",
    "    perm = np.random.permutation(df.index)\n",
    "    m = len(df.index)\n",
    "    train_end = int(train_percent * m)\n",
    "    validate_end = int(validate_percent * m) + train_end\n",
    "    train = df.ix[perm[:train_end]]\n",
    "    validate = df.ix[perm[train_end:validate_end]]\n",
    "    test = df.ix[perm[validate_end:]]\n",
    "    return train, validate, test\n",
    "    \n",
    "def tenfold(x_train, x_test, y_train, y_test, clf,p):\n",
    "    ##x_train, x_test, y_train, y_test = train_test_split(vecountdf, origdf['QorA'], test_size = 0.33)\n",
    "    clfgrid = GridSearchCV(clf,p, cv=10)\n",
    "    clfgrid.fit(x_train, y_train)\n",
    "    x_pred = clfgrid.predict(x_test)\n",
    "    return x_pred, clfgrid\n"
   ]
  }
 ],
 "metadata": {
  "colab": {
   "collapsed_sections": [],
   "name": "BASELINE_toucanai.ipynb",
   "provenance": [],
   "version": "0.3.2"
  },
  "kernelspec": {
   "display_name": "Python 3",
   "language": "python",
   "name": "python3"
  },
  "language_info": {
   "codemirror_mode": {
    "name": "ipython",
    "version": 3
   },
   "file_extension": ".py",
   "mimetype": "text/x-python",
   "name": "python",
   "nbconvert_exporter": "python",
   "pygments_lexer": "ipython3",
   "version": "3.7.2"
  }
 },
 "nbformat": 4,
 "nbformat_minor": 1
}
