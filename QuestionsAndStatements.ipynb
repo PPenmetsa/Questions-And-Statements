{
 "cells": [
  {
   "cell_type": "code",
   "execution_count": 0,
   "metadata": {
    "colab": {
     "base_uri": "https://localhost:8080/",
     "height": 102
    },
    "colab_type": "code",
    "id": "YOGSiZl1Oidk",
    "outputId": "c1c8191a-b0fd-4d03-baec-6e03e4b28162"
   },
   "outputs": [
    {
     "name": "stdout",
     "output_type": "stream",
     "text": [
      "Cloning into 'Dropbox-Uploader'...\n",
      "remote: Enumerating objects: 951, done.\u001b[K\n",
      "remote: Total 951 (delta 0), reused 0 (delta 0), pack-reused 951\u001b[K\n",
      "Receiving objects: 100% (951/951), 309.20 KiB | 1.59 MiB/s, done.\n",
      "Resolving deltas: 100% (505/505), done.\n"
     ]
    }
   ],
   "source": [
    "#LOADING DATA\n",
    "\n",
    "!git clone https://github.com/thatbrguy/Dropbox-Uploader.git"
   ]
  },
  {
   "cell_type": "code",
   "execution_count": 0,
   "metadata": {
    "colab": {
     "base_uri": "https://localhost:8080/",
     "height": 34
    },
    "colab_type": "code",
    "id": "3-pUU59DOtSe",
    "outputId": "0c09a1c6-d084-4142-eb1c-0d34e9b92b1f"
   },
   "outputs": [
    {
     "name": "stdout",
     "output_type": "stream",
     "text": [
      "/content/Dropbox-Uploader\n"
     ]
    }
   ],
   "source": [
    "cd Dropbox-Uploader"
   ]
  },
  {
   "cell_type": "code",
   "execution_count": 0,
   "metadata": {
    "colab": {
     "base_uri": "https://localhost:8080/",
     "height": 272
    },
    "colab_type": "code",
    "id": "rm1TVpFAOvlL",
    "outputId": "1770bea1-eddb-4792-fc7e-6f26d5579545"
   },
   "outputs": [
    {
     "name": "stdout",
     "output_type": "stream",
     "text": [
      "\n",
      " This is the first time you run this script, please follow the instructions:\n",
      "\n",
      " 1) Open the following URL in your Browser, and log in using your account: https://www.dropbox.com/developers/apps\n",
      " 2) Click on \"Create App\", then select \"Dropbox API app\"\n",
      " 3) Now go on with the configuration, choosing the app permissions and access restrictions to your DropBox folder\n",
      " 4) Enter the \"App Name\" that you prefer (e.g. MyUploader300222500110599)\n",
      "\n",
      " Now, click on the \"Create App\" button.\n",
      "\n",
      " When your new App is successfully created, please click on the Generate button\n",
      " under the 'Generated access token' section, then execute the following command:\n",
      "\n",
      " echo \"INPUT_YOUR_ACCESS_TOKEN_HERE\" > token.txt\n",
      "\n"
     ]
    }
   ],
   "source": [
    "!chmod +x dropbox_uploader.sh\n",
    "!bash dropbox_uploader.sh\n"
   ]
  },
  {
   "cell_type": "code",
   "execution_count": 0,
   "metadata": {
    "colab": {},
    "colab_type": "code",
    "id": "nwz0vf7uOz6-"
   },
   "outputs": [],
   "source": [
    "!echo \"xO7ZN9X-ToAAAAAAAAAASBtUoCbS_NDfM-ukxdcFc0Nw1ST303tE-nTdXezTqT6V\" > token.txt"
   ]
  },
  {
   "cell_type": "code",
   "execution_count": 0,
   "metadata": {
    "colab": {
     "base_uri": "https://localhost:8080/",
     "height": 119
    },
    "colab_type": "code",
    "id": "MiBvijqyO3DH",
    "outputId": "4131739f-ce4c-4f25-df6a-d2fbdef2bd00"
   },
   "outputs": [
    {
     "name": "stdout",
     "output_type": "stream",
     "text": [
      " > Downloading folder \"/Toucan\" to \"/content/Dropbox-Uploader/Toucan\"... \n",
      " > Creating local directory \"/content/Dropbox-Uploader/Toucan\"... DONE\n",
      " > Downloading \"/Toucan/test-inputs.txt\" to \"/content/Dropbox-Uploader/Toucan/test-inputs.txt\"... DONE\n",
      " > Downloading \"/Toucan/testData.xlsx\" to \"/content/Dropbox-Uploader/Toucan/testData.xlsx\"... DONE\n",
      " > Downloading \"/Toucan/testData.csv\" to \"/content/Dropbox-Uploader/Toucan/testData.csv\"... DONE\n",
      " > Downloading \"/Toucan/toucantest.csv\" to \"/content/Dropbox-Uploader/Toucan/toucantest.csv\"... DONE\n"
     ]
    }
   ],
   "source": [
    "!bash dropbox_uploader.sh download Toucan"
   ]
  },
  {
   "cell_type": "code",
   "execution_count": 0,
   "metadata": {
    "colab": {},
    "colab_type": "code",
    "id": "ICmQXTwXPdA0"
   },
   "outputs": [],
   "source": [
    "import csv\n",
    "import numpy as np\n",
    "import pandas as pd\n",
    "from sklearn.feature_extraction.text import CountVectorizer\n",
    "\n",
    "from sklearn.model_selection import GridSearchCV\n",
    "from sklearn.model_selection import train_test_split\n",
    "from sklearn.metrics import classification_report\n",
    "\n",
    "from sklearn.linear_model import LogisticRegression"
   ]
  },
  {
   "cell_type": "code",
   "execution_count": 0,
   "metadata": {
    "colab": {},
    "colab_type": "code",
    "id": "wvyIBk2isL3c"
   },
   "outputs": [],
   "source": [
    "#PROD FILE: CSV TO DF\n",
    "\n",
    "origdf = pd.read_csv('Toucan/testData.csv')\n",
    "origdf.dropna(axis = 1, how = 'all', inplace = True)"
   ]
  },
  {
   "cell_type": "code",
   "execution_count": 0,
   "metadata": {
    "colab": {
     "base_uri": "https://localhost:8080/",
     "height": 34
    },
    "colab_type": "code",
    "id": "1BQFVr5ws__G",
    "outputId": "f8c694b5-a3c4-4e6f-e91e-239646edaff3"
   },
   "outputs": [
    {
     "data": {
      "text/plain": [
       "4061"
      ]
     },
     "execution_count": 86,
     "metadata": {
      "tags": []
     },
     "output_type": "execute_result"
    }
   ],
   "source": [
    "len(origdf)"
   ]
  },
  {
   "cell_type": "markdown",
   "metadata": {
    "colab_type": "text",
    "id": "wfWNDi00E52N"
   },
   "source": [
    "## **EXPLORATORY DATA ANALYSIS**"
   ]
  },
  {
   "cell_type": "code",
   "execution_count": 0,
   "metadata": {
    "colab": {},
    "colab_type": "code",
    "id": "vqIuyJN3FDSf"
   },
   "outputs": [],
   "source": [
    "import seaborn as sns\n",
    "import matplotlib as plt"
   ]
  },
  {
   "cell_type": "code",
   "execution_count": 0,
   "metadata": {
    "colab": {
     "base_uri": "https://localhost:8080/",
     "height": 412
    },
    "colab_type": "code",
    "id": "KMHgRTo7ITRA",
    "outputId": "53e63dfd-5917-431d-f36d-d651e8be0b95"
   },
   "outputs": [
    {
     "name": "stderr",
     "output_type": "stream",
     "text": [
      "/usr/local/lib/python3.6/dist-packages/seaborn/categorical.py:1428: FutureWarning: remove_na is deprecated and is a private function. Do not use.\n",
      "  stat_data = remove_na(group_data)\n"
     ]
    },
    {
     "data": {
      "text/plain": [
       "<matplotlib.axes._subplots.AxesSubplot at 0x7f05c34be358>"
      ]
     },
     "execution_count": 12,
     "metadata": {
      "tags": []
     },
     "output_type": "execute_result"
    },
    {
     "data": {
      "image/png": "[encoded data removed]",
      "text/plain": [
       "<Figure size 576x396 with 1 Axes>"
      ]
     },
     "metadata": {
      "tags": []
     },
     "output_type": "display_data"
    }
   ],
   "source": [
    "sns.countplot(x = origdf['QorA'], data = origdf)\n",
    "# 0 is Statement\n",
    "# 1 is Question"
   ]
  },
  {
   "cell_type": "markdown",
   "metadata": {
    "colab_type": "text",
    "id": "wQVHU2JTKIec"
   },
   "source": [
    "## **Text Pre-processing Functions**"
   ]
  },
  {
   "cell_type": "code",
   "execution_count": 0,
   "metadata": {
    "colab": {},
    "colab_type": "code",
    "id": "vuLGygHhKc_E"
   },
   "outputs": [],
   "source": [
    "from sklearn.feature_extraction.text import TfidfVectorizer"
   ]
  },
  {
   "cell_type": "code",
   "execution_count": 0,
   "metadata": {
    "colab": {},
    "colab_type": "code",
    "id": "pbGheBTMSRDz"
   },
   "outputs": [],
   "source": [
    "\n",
    "#START WITH COUNTVECTORIZER\n",
    "def cvectorizer(origdf):\n",
    "  vectorizer = CountVectorizer()\n",
    "  vectorizer.fit(origdf['Sentence'])\n",
    "  vector = vectorizer.fit_transform(origdf.Sentence)\n",
    "  print(vector.shape)\n",
    "  print(vectorizer.vocabulary_)\n",
    "  v = vector.todense()\n",
    "  vecountdf = pd.DataFrame(v, columns = vectorizer.get_feature_names())\n",
    "  whole = pd.concat([origdf, vecountdf], axis = 1)\n",
    "  return whole, vecountdf"
   ]
  },
  {
   "cell_type": "code",
   "execution_count": 0,
   "metadata": {
    "colab": {},
    "colab_type": "code",
    "id": "6OPtfB30KS0g"
   },
   "outputs": [],
   "source": [
    "def tfidfvector(origdf):\n",
    "  vectorizertfidf = TfidfVectorizer()\n",
    "  vtfidf = vectorizertfidf.fit_transform(origdf['Sentence'])\n",
    "  v = vtfidf.todense()\n",
    "  origtfidfrest = pd.DataFrame(v, columns = vectorizertfidf.get_feature_names())\n",
    "  return origtfidfrest"
   ]
  },
  {
   "cell_type": "markdown",
   "metadata": {
    "colab_type": "text",
    "id": "f8DbQVyHLSS5"
   },
   "source": [
    "## **Data Set Splitting Functions**"
   ]
  },
  {
   "cell_type": "code",
   "execution_count": 0,
   "metadata": {
    "colab": {},
    "colab_type": "code",
    "id": "AB4uVjl1KKSP"
   },
   "outputs": [],
   "source": [
    "#SPLIT PROD FILE INTO TRAIN, TEST, VALIDATION SECTIONS\n",
    "\n",
    "def threeSplit_DataSet(whole):\n",
    "  train, validate, test = np.split(whole.sample(frac = 1), [int(0.6*len(whole)), int(0.8*len(whole))])\n",
    "  return train, validate, test"
   ]
  },
  {
   "cell_type": "code",
   "execution_count": 0,
   "metadata": {
    "colab": {},
    "colab_type": "code",
    "id": "rImtp50cQSIY"
   },
   "outputs": [],
   "source": [
    "def threeSplit_SortData(train, test, validate):\n",
    "  train_q = train['Sentence']\n",
    "  test_q = test['Sentence']\n",
    "  val_q = validate['Sentence']\n",
    "  train_rest = train.copy().drop(['Sentence','QorA'], axis = 1)\n",
    "  test_rest = test.copy().drop(['Sentence','QorA'], axis = 1)\n",
    "  val_rest = validate.copy().drop(['Sentence','QorA'], axis = 1)\n",
    "  train_ans = train['QorA']\n",
    "  test_ans = test['QorA']\n",
    "  val_ans = validate['QorA']\n",
    "  return train_q, test_q, val_q, train_rest, test_rest, val_rest, train_ans, test_ans, val_ans"
   ]
  },
  {
   "cell_type": "code",
   "execution_count": 0,
   "metadata": {
    "colab": {},
    "colab_type": "code",
    "id": "2M0HCDLqL9-W"
   },
   "outputs": [],
   "source": [
    "#COMPARING 3 SET DATA WITH 10-FOLD CROSS-VALIDATION\n",
    "## use 'whole' dataset \n",
    "def tenfold(x_train, x_test, y_train, y_test, clf):\n",
    "  #x_train, x_test, y_train, y_test = train_test_split(vecountdf, origdf['QorA'], test_size = 0.33)\n",
    "  p = {}\n",
    "  clfgrid = GridSearchCV(clf,p, cv=10)\n",
    "  clfgrid.fit(x_train, y_train)\n",
    "  x_pred = clfgrid.predict(x_test)\n",
    "  return x_pred\n"
   ]
  },
  {
   "cell_type": "markdown",
   "metadata": {
    "colab_type": "text",
    "id": "EuqpG_7oO0Mw"
   },
   "source": [
    "## **Estimator Functions**"
   ]
  },
  {
   "cell_type": "code",
   "execution_count": 0,
   "metadata": {
    "colab": {},
    "colab_type": "code",
    "id": "qmk-qrI1O6Pg"
   },
   "outputs": [],
   "source": [
    "def MNB(train_features, train_y, val_features, test_features, val_y, test_y, test_x):\n",
    "  clf = MultinomialNB()\n",
    "  training_model = clf.fit(train_features, train_y)\n",
    "  clf.fit(train_features, train_y)\n",
    "  clf.fit(val_features, val_y)\n",
    "  \n",
    "  predicted_val = clf.predict(val_features)\n",
    "  predicted_test = clf.predict(test_features)\n",
    "  \n",
    "  predtest = pd.DataFrame(data = predicted_test, index = test_y.index)   #,index = 'default', columns = 'train_predict')\\\n",
    "  predtest['Sent'] = test_x\n",
    "  return clf, predicted_val, predicted_test, predtest, training_model\n",
    "  "
   ]
  },
  {
   "cell_type": "code",
   "execution_count": 0,
   "metadata": {
    "colab": {},
    "colab_type": "code",
    "id": "1RKIQym8WlCD"
   },
   "outputs": [],
   "source": [
    "def logregression(x_train, y_train, x_test):\n",
    "  clf = LogisticRegression(random_state=0, solver = 'liblinear', multi_class = 'ovr').fit(x_train, y_train)\n",
    "  clf.predict(x_test)\n",
    "  return clf\n",
    "  \n",
    "#1. look through scikitlearn doc for log regression : implement\n",
    "#2. try creating another file: adding more sentences so that evens out sentences vs questions:: more evened out dataset\n",
    "#3. log regression with tfidf, 10 fold dataset\n",
    "#4. try Glove embeddings "
   ]
  },
  {
   "cell_type": "markdown",
   "metadata": {
    "colab_type": "text",
    "id": "GIDYDXXRNCdz"
   },
   "source": [
    "## **Model Validation Fucnctions**"
   ]
  },
  {
   "cell_type": "code",
   "execution_count": 0,
   "metadata": {
    "colab": {},
    "colab_type": "code",
    "id": "xf7V59XCNJUa"
   },
   "outputs": [],
   "source": [
    "def confMatrix(y_test, x_pred):\n",
    "  tn, fp, fn, tp = confusion_matrix(y_test, x_pred).ravel()\n",
    "  cm_acc = (tp+fn)/(tn+fp+fn+tp)\n",
    "  return cm_acc"
   ]
  },
  {
   "cell_type": "markdown",
   "metadata": {
    "colab_type": "text",
    "id": "asjSvc8wOWqs"
   },
   "source": [
    "1st Model: CV + 3 fold data split + MNB + confusion Martix"
   ]
  },
  {
   "cell_type": "code",
   "execution_count": 0,
   "metadata": {
    "colab": {
     "base_uri": "https://localhost:8080/",
     "height": 71
    },
    "colab_type": "code",
    "id": "-ahs2hdlMEQV",
    "outputId": "f37843b1-e9f1-41b4-b60c-e0d0a720f76a"
   },
   "outputs": [
    {
     "name": "stdout",
     "output_type": "stream",
     "text": [
      "(4061, 6483)\n",
      "{'did': 1800, 'his': 2901, 'mother': 3833, 'die': 1803, 'of': 4071, 'pneumonia': 4413, 'is': 3177, 'it': 3191, 'derived': 1749, 'from': 2554, 'the': 5792, 'latin': 3360, 'spoken': 5430, 'by': 1017, 'romanized': 4982, 'pre': 4490, 'roman': 4977, 'peoples': 4279, 'iberian': 2990, 'peninsula': 4275, 'namely': 3895, 'gallaeci': 2587, 'lusitanians': 3555, 'celtici': 1130, 'and': 486, 'conii': 1423, 'around': 592, '2000': 159, 'years': 6446, 'ago': 401, 'why': 6345, 'bequerel': 820, 'win': 6362, 'nobel': 3992, 'prize': 4555, 'in': 3034, 'physics': 4341, 'where': 6329, 'jakarta': 3208, 'located': 3498, 'screens': 5114, 'but': 1007, 'felt': 2349, 'that': 5791, 'was': 6277, 'too': 5884, 'much': 3860, 'sacrifice': 5028, 'does': 1898, 'order': 4127, 'testudines': 5783, 'not': 4013, 'include': 3038, 'both': 912, 'extant': 2255, 'lrb': 3545, 'living': 3487, 'rrb': 5007, 'extinct': 2263, 'species': 5413, 'earliest': 1983, 'known': 3302, 'turtles': 6011, 'being': 803, '215': 176, 'million': 3758, 'arrival': 595, 'louis': 3532, 'kossuth': 3310, 'exiled': 2220, 'leader': 3377, 'failed': 2288, 'hungarian': 2970, 'revolution': 4938, 'another': 514, 'issue': 3187, 'presented': 4518, 'itself': 3198, 'during': 1970, 'fillmore': 2382, 'presidency': 4520, 'who': 6340, 'alessandro': 428, 'volta': 6238, 'marry': 3635, 'hotel': 2944, 'set': 5191, 'an': 478, 'absolutely': 280, 'ideal': 2994, 'location': 3499, 'offers': 4075, 'great': 2725, 'rates': 4720, 'excellent': 2210, 'conceirge': 1383, 'small': 5337, 'holds': 2916, 'lots': 3529, 'songs': 5380, 'video': 6191, 'easy': 1995, 'to': 5870, 'use': 6120, 'switched': 5680, 'over': 4171, 'male': 3600, 'voice': 6233, 'which': 6331, 'happen': 2792, 'like': 3447, 'better': 826, 'good': 2694, 'value': 6138, 'are': 579, 'there': 5805, 'many': 3620, 'words': 6399, 'malay': 3596, 'natural': 3910, 'gender': 2616, 'what': 6323, 'happened': 2793, 'with': 6381, 'bromide': 963, 'emulsion': 2080, 'two': 6019, 'sheets': 5218, 'very': 6175, 'thick': 5811, 'black': 857, 'paper': 4219, 'recording': 4776, 'quality': 4665, 'price': 4533, 'size': 5314, 'weight': 6311, 'radio': 4690, 'pedometer': 4267, 'you': 6453, 'can': 1048, 'either': 2034, 'move': 3845, 'screen': 5113, 'eliminate': 2055, 'glare': 2669, 'or': 4121, 'lamp': 3333, 'love': 3535, 'capability': 1060, 'making': 3595, 'bigger': 834, 'smaller': 5338, 'mouse': 3842, 'pad': 4187, 'will': 6357, 'giraffe': 2660, 'clean': 1248, 'off': 4072, 'any': 531, 'bugs': 980, 'appear': 542, 'on': 4094, 'its': 3197, 'face': 2278, 'do': 1892, 'other': 4150, 'landmarks': 3336, 'istiqlal': 3189, 'mosque': 3829, 'as': 608, 'well': 6313, 'cathedral': 1107, 'elder': 2036, 'children': 1193, 'john': 3234, 'calvin': 1038, 'sr': 5451, 'victoria': 6188, 'coolidge': 1500, 'some': 5371, 'caterpillars': 1105, 'produce': 4567, 'vibrations': 6185, 'sounds': 5388, 'penguins': 4274, 'astonishingly': 627, 'agile': 398, 'driver': 1948, 'seat': 5128, 'fully': 2563, 'adjustable': 353, 'using': 6127, 'way': 6292, 'power': 4473, 'uncomfortable': 6041, 'first': 2415, 'gymnast': 2766, 'score': 5103, 'perfect': 4287, 'ten': 5759, 'think': 5814, 'reason': 4751, 'didn': 1801, 'because': 781, 'wants': 6268, 'force': 2477, 'user': 6124, 'windows': 6365, 'live': 3484, 'toolbar': 5887, 'includes': 3040, 'features': 2332, 'similar': 5283, 'google': 2698, 'coulomb': 1526, 'distinguished': 1872, 'history': 2909, 'mechanics': 3687, 'electricity': 2043, 'magnetism': 3580, 'sponsor': 5431, 'mentor': 3715, 'faraday': 2307, 'avogadro': 694, 'hailed': 2772, 'founder': 2509, 'atomic': 637, 'molecular': 3798, 'theory': 5803, 'all': 433, 'these': 5809, 'have': 2822, 'worked': 6401, '100': 9, 'time': 5853, 'previously': 4531, 'unheard': 6057, 'father': 2319, 'inspector': 3107, 'royal': 5005, 'fields': 2370, 'camera': 1044, 'sound': 5386, 'also': 449, 'surprising': 5655, 'for': 2474, 'such': 5601, 'unit': 6066, 'larger': 3349, 'kangaroos': 3256, 'adapted': 337, 'changes': 1154, 'however': 2956, 'prefer': 4505, 'robotic': 4963, 'voices': 6234, 'no': 3991, 'directions': 1830, 'at': 630, 'graduated': 2711, 'ecclesiastical': 2002, 'law': 3367, 'early': 1984, 'age': 394, '20': 158, 'began': 797, 'practice': 4482, 'after': 391, 'said': 5036, 'view': 6197, 'nothing': 4019, 'else': 2059, 'shame': 5207, 'this': 5822, 'model': 3788, 'comes': 1319, 'glossy': 2677, 'primary': 4542, 'item': 3194, 'otter': 4155, 'diet': 1805, 'one': 4096, 'places': 4376, 'between': 828, 'phosphorescent': 4329, 'substance': 5594, 'piece': 4355, 'money': 3806, 'metal': 3723, 'pierce': 4357, 'cut': 1620, 'out': 4160, 'design': 1764, 'heavy': 2846, 'rearward': 4750, 'bias': 830, 'so': 5354, 'fall': 2294, 'backwards': 717, 'pushed': 4651, 'back': 711, 'get': 2643, 'mileage': 3750, 'my': 3884, 'bmw': 881, '325i': 209, 'count': 1528, 'original': 4139, 'instruments': 3119, 'papers': 4221, 'display': 1859, 'vista': 6226, 'has': 2813, 'more': 3825, 'than': 5788, 'xp': 6434, 'them': 5797, 'make': 3592, 'os': 4145, 'usable': 6117, 'me': 3675, 'made': 3574, '1810': 70, 'pleasant': 4396, 'staff': 5458, 'food': 2468, 'we': 6294, 'll': 3488, 'be': 767, 'staying': 5496, 'again': 392, 'northern': 4009, 'california': 1033, 'most': 3830, 'widely': 6348, 'circulated': 1222, 'newspaper': 3964, 'form': 2487, 'language': 3339, 'teaching': 5738, 'done': 1913, 'english': 2099, 'ghana': 2648, 'official': 4078, 'standard': 5464, 'used': 6121, 'people': 4278, 'republic': 4874, 'china': 1194, 'singapore': 5293, 'called': 1035, 'huayu': 2960, 'could': 1523, 'gotten': 2702, 'matte': 3660, 'neither': 3945, 'those': 5826, 'impressed': 3027, 'leather': 3389, 'comfortable': 1321, 'bad': 718, 'king': 3287, 'victor': 6187, 'emmanuel': 2071, 'iii': 3001, 'pay': 4258, 'homage': 2924, '1757': 52, '1759': 53, 'unification': 6059, 'italy': 3193, 'access': 297, 'london': 3511, 'tourist': 5905, 'sites': 5306, 'positives': 4460, 'were': 6315, 'block': 868, 'gloucster': 2680, 'rd': 4730, 'true': 5979, 'bargain': 743, 'market': 3630, 'convenient': 1487, 'adjacent': 350, 'gloucester': 2678, 'road': 4960, 'underground': 6045, 'station': 5485, 'whom': 6343, 'he': 2826, 'share': 5212, 'laptop': 3344, 'except': 2212, 'large': 3347, 'just': 3248, 'big': 833, 'dark': 1644, 'paperweight': 4222, 'professors': 4580, 'teach': 5736, 'points': 4417, 'makes': 3594, 'life': 3438, 'simpler': 5287, 'having': 2824, 'ppt': 4480, 'annotate': 504, 'while': 6332, 'listening': 3475, 'lecture': 3395, 'surplus': 5652, 'killing': 3277, 'romania': 4979, 'semi': 5163, 'presidential': 4522, 'unitary': 6067, 'state': 5481, 'now': 4030, 'kindle': 3283, 'change': 1152, 'print': 4550, 'suit': 5614, 'eyes': 2272, 'further': 2577, 'intelligent': 3125, 'choices': 1200, 'books': 899, 'information': 3087, 'available': 681, 'finger': 2396, 'tips': 5863, 'how': 2955, 'part': 4235, 'strings': 5554, 'left': 3398, 'hand': 2780, 'touch': 5898, 'pleurodira': 4404, 'sometimes': 5376, 'side': 5262, 'necked': 3932, 'reference': 4786, 'they': 5810, 'withdraw': 6382, 'their': 5796, 'heads': 2833, 'into': 3149, 'shells': 5220, 'spending': 5423, 'education': 2016, 'buried': 995, 'city': 1228, 'como': 1349, 'determined': 1781, 'pursue': 4649, 'mathematics': 3657, 'control': 1482, 'migration': 3746, 'stem': 5500, 'overcrowding': 4173, 'poverty': 4472, 'shape': 5209, 'leopard': 3416, 'ros08_settes': 4994, 'east': 1993, 'africa': 389, 'ant': 515, 'marsupial': 3637, 'violin': 6210, 'depend': 1739, 'upon': 6101, 'ipod': 3170, 'service': 5188, 'questionable': 4672, 'vietnamese': 6196, 'number': 4033, 'vowels': 6246, 'nice': 3971, 'gas': 2602, 'family': 2300, 'car': 1069, 'followed': 2460, 'shortly': 5244, 'thereafter': 5806, 'knock': 3298, 'housekeeper': 2952, 'telling': 5753, 'us': 6114, 'our': 4159, 'sign': 5271, 'wasn': 6279, 'extremely': 2268, 'limited': 3453, 'cable': 1021, 'refill': 4790, 'replace': 4857, 'shampoo': 5208, 'shower': 5251, 'gel': 2611, 'entire': 2121, 'stay': 5494, 'nor': 4003, 'she': 5217, 'empty': 2079, 'trash': 5952, 'bins': 840, 'room': 4988, 'occasions': 4054, 'brought': 966, 'cold': 1289, 'soggy': 5362, 'late': 3356, 'lobby': 3494, 'bar': 739, 'closes': 1266, 'really': 4748, 'quiet': 4677, 'president': 4521, 'lincoln': 3456, 'promote': 4591, 'major': 3590, 'general': 2619, 'regular': 4812, 'army': 591, 'effective': 2021, 'july': 3244, 'feature': 2330, 'high': 2881, 'when': 6327, 'transfer': 5933, 'onto': 4101, 'your': 6456, 'computer': 1380, 'method': 3727, 'travel': 5953, 'james': 3209, 'monroe': 3810, 'saving': 5074, 'grace': 2706, 'friendly': 2549, 'kensington': 3265, 'considered': 1439, 'gentleman': 2631, 'touchpad': 5900, 'expanding': 2228, 'zooming': 6475, 'presentation': 4517, 'admit': 363, 'never': 3959, 'needing': 3935, 'upright': 6104, 'pianos': 4343, 'vertical': 6174, 'thrust': 5840, 'him': 2895, 'national': 3904, 'spotlight': 5442, 'ants': 528, 'belong': 810, 'same': 5046, 'bees': 793, 'born': 908, 'angoulême': 498, 'france': 2523, 'trumpet': 5981, 'constructed': 1456, 'brass': 936, 'tubing': 5993, 'bent': 817, 'twice': 6017, 'oblong': 4045, 'xylophone': 6437, 'octaves': 4062, 'miss': 3780, 'ride': 4947, '05': 4, '96': 261, 'camry': 1046, '1811': 71, 'member': 3700, 'blaise': 859, 'pascal': 4246, 'charles': 1167, 'augustin': 659, 'de': 1663, 'swahili': 5668, 'last': 3354, 'name': 3893, 'efficient': 2024, 'average': 686, 'priced': 4534, 'decent': 1676, 'octopus': 4064, 'common': 1340, 'mediterranean': 3694, 'cuisine': 1604, 'portuguese': 4455, 'glad': 2667, 'listen': 3474, 'play': 4387, 'games': 2592, 'take': 5705, 'tell': 5752, 'still': 5512, 'nifty': 3977, 'upgrade': 6095, 'lot': 3528, 'fun': 2565, 'experience': 2236, 'organized': 4134, 'involving': 3168, 'navigating': 3918, 'huge': 2963, 'catacombs': 1098, 'archives': 577, 'files': 2379, 'churchill': 1217, 'occupation': 4057, 'singapor': 5292, 'janpan': 3210, 'wwii': 6431, 'britain': 959, 'greatest': 2727, 'defeat': 1695, 'publish': 4629, '1800': 65, 'gray': 2724, 'wolves': 6387, 'native': 3907, 'north': 4008, 'america': 468, 'none': 4002, 'old': 4088, 'nano': 3897, 'asseccories': 620, 'work': 6400, 'new': 3960, 'difficult': 1811, 'learn': 3385, 'shares': 5214, 'land': 3334, 'borders': 905, 'papua': 4224, 'guinea': 2758, 'timor': 5857, 'malaysia': 3598, 'turkish': 6003, 'syllable': 5683, 'usually': 6129, 'stress': 5547, 'result': 4919, 'rejection': 4815, 'jay': 3218, 'treaty': 5962, 'enough': 2113, 'read': 4738, 'comfortably': 1322, 'polish': 4425, 'word': 6398, 'swan': 5669, 'restaurant': 4913, 'reasonable': 4752, 'prices': 4536, 'study': 5572, 'beetles': 795, 'coleopterology': 1295, 'practitioners': 4485, 'coleopterists': 1294, 'uganda': 6028, 'required': 4880, 'subject': 5586, 'schools': 5095, 'russia': 5019, 'largest': 3350, 'foundry': 2513, 'turned': 6006, 'property': 4604, 'prime': 4543, 'wonderful': 6392, 'right': 4953, 'hard': 2797, 'beat': 776, 'mainland': 3584, 'nova': 4027, 'scotia': 5104, 'come': 1318, 'under': 6043, 'british': 960, 'rule': 5010, 'utrecht': 6131, 'cello': 1126, 'abbreviation': 266, 'tube': 5991, 'stations': 5487, 'church': 1216, 'montreal': 3818, 'got': 2701, 'remarkably': 4839, 'bright': 952, 'vivid': 6231, 'uruguay': 6112, 'host': 2942, 'ever': 2189, 'world': 6408, 'cup': 1609, 'been': 790, 'few': 2362, 'minutes': 3774, 'walk': 6258, 'unfortunately': 6055, 'wife': 6352, 'lost': 3527, 'about': 273, '50': 227, 'percent': 4282, 'her': 2865, 'eyesight': 2273, 'able': 270, 'enjoy': 2104, 'reading': 4742, 'since': 5290, 'then': 5799, 'active': 328, 'area': 580, 'environmental': 2129, 'science': 5096, 'smallest': 5339, 'trumpets': 5983, 'referred': 4787, 'give': 2662, 'times': 5856, 'fake': 2293, 'anything': 534, 'deposited': 1745, 'holes': 2919, 'dug': 1967, 'mud': 3861, 'sand': 5051, 'eat': 1996, 'plants': 4382, 'meats': 3685, 'dragonfly': 1935, 'associated': 623, 'summer': 5621, 'autumn': 678, 'example': 2208, 'longest': 3514, 'destructive': 1776, 'lethal': 3423, 'sieges': 5264, 'cities': 1225, 'modern': 3793, 'feels': 2341, 'boot': 901, 'up': 6091, 'fast': 2316, 'keyboard': 3270, 'copenhagen': 1502, '1251': 25, '1255': 26, 'rooms': 4989, 'yes': 6447, 'bit': 851, 'definately': 1700, 'tiny': 5861, 'india': 3059, 'relate': 4816, '10': 8, 'kinda': 3282, 'thing': 5812, 'try': 5985, 'max': 3666, 'removing': 4848, 'unnecessary': 6078, 'menus': 3717, 'person': 4302, 'talking': 5711, 'had': 2770, 'concerns': 1391, 'prompts': 4594, 'loud': 3530, 'folk': 2458, 'music': 3876, 'western': 6317, 'europe': 2177, 'only': 4099, 'surviving': 5664, 'giant': 2652, 'tortoises': 5894, 'bustling': 1005, 'ford': 2480, 'award': 698, 'congressman': 1421, 'horrible': 2939, 'disgusting': 1855, 'procedures': 4561, 'year': 6445, 'henri': 2863, 'becquerel': 785, 'prompted': 4593, 'turn': 6005, 'place': 4373, 'without': 6384, 'look': 3516, 'gps': 2705, 'course': 1539, 'commands': 1329, 'mechanical': 3686, 'clear': 1251, 'effect': 2020, 'complaint': 1359, 'little': 3482, 'tinny': 5859, 'especially': 2153, 'if': 2999, 'volume': 6240, 'deal': 1665, 'priceline': 4535, 'sure': 5646, 'worth': 6415, 'nairobi': 3892, 'capital': 1065, 'kenya': 3266, 'overall': 4172, 'mind': 3760, 'knowing': 3301, 'going': 2690, 'winter': 6373, 'sports': 5438, 'resort': 4901, 'easier': 1990, 'page': 4189, 'adjust': 352, 'font': 2463, 'needed': 3934, 'centred': 1136, 'sierra': 5266, 'named': 3894, 'santiago': 5058, 'united': 6069, 'states': 5483, 'males': 3601, 'specialized': 5411, 'arm': 588, 'hectocotylus': 2848, 'insert': 3104, 'spermatophores': 5426, 'tigers': 5845, 'solitary': 5367, 'animals': 500, 'relatively': 4822, '100m': 14, 'shops': 5238, 'restaurants': 4914, 'interior': 3138, 'roomy': 4990, 'sit': 5304, 'rear': 4749, 'fashionable': 2314, 'glossiness': 2676, 'body': 886, 'acquires': 321, 'fingerprints': 2400, 'smears': 5342, 'rapidly': 4714, 'museum': 3874, 'collection': 1297, 'art': 600, 'liechtenstein': 3435, 'otherwise': 4152, 'refrige': 4798, 'key': 3269, 'tesla': 5780, 'hired': 2900, 'edison': 2014, 'polar': 4420, 'bear': 773, 'mammal': 3606, 'death': 1669, 'former': 2492, 'truly': 5980, 'helps': 2859, 'crisp': 1578, 'runs': 5017, 'suffer': 5606, 'frequent': 2541, 'flooding': 2442, 'finder': 2392, 'desktop': 1772, 'awkward': 705, 'working': 6404, 'versions': 6173, 'mac': 3564, 'couple': 1538, 'streaming': 5542, 'videos': 6192, 'hulu': 2965, 'netflix': 3953, 'incredible': 3049, 'inch': 3037, 'gendarmenmarkt': 2615, 'border': 903, 'french': 2540, 'concierge': 1395, 'mayor': 3673, 'ottawa': 4154, 'prc': 4488, 'government': 2703, 'classify': 1245, 'literacy': 3477, 'amongst': 474, 'workers': 6403, 'arabic': 569, 'maybe': 3671, 'something': 5374, 'need': 3933, 'figure': 2376, 'fix': 2423, 'don': 1911, 'aspect': 615, 'ratio': 4723, 'spelling': 5421, 'phonetic': 4328, 'formula': 2495, 'championship': 1149, 'refer': 4785, 'chinese': 1195, 'linguists': 3463, 'single': 5296, 'subdivisions': 5583, 'dialects': 1794, 'others': 4151, 'call': 1034, 'shortcoming': 5241, 'resolution': 4898, 'rated': 4719, 'highway': 2888, 'flat': 2431, 'open': 4103, 'roads': 4961, 'west': 6316, 'texas': 5784, 'put': 4654, 'foot': 2470, 'orders': 4130, 'basic': 752, 'flute': 2449, 'situated': 5309, 'germany': 2640, 'seize': 5153, 'tanganyika': 5717, 'aquatic': 566, 'grover': 2746, 'cleveland': 1256, 'elected': 2038, 'sheriff': 5221, 'erie': 2146, 'county': 1536, 'york': 6452, 'tusklessness': 6013, 'become': 782, 'rare': 4716, 'abnormality': 271, 'various': 6149, 'trees': 5964, 'claimed': 1233, 'apple': 547, 'tree': 5963, 'newton': 3967, 'describes': 1757, 'inspired': 3108, 'genetic': 2627, 'researchers': 4884, 'begin': 798, 'examining': 2207, 'turtle': 6010, 'genome': 2629, 'longevity': 3515, 'genes': 2626, 'acceptable': 295, 'within': 6383, 'walking': 6260, 'distance': 1865, 'floats': 2441, '2the': 199, 'goes': 2687, 'solid': 5366, 'blue': 878, 'starting': 5477, 'sits': 5307, 'mathematician': 3656, 'professor': 4579, 'card': 1071, 'weak': 6295, 'cramped': 1553, 'case': 1091, 'netbooks': 3952, 'point': 4416, 'spanish': 5405, 'european': 2178, 'union': 6064, 'middle': 3743, 'pedal': 4265, 'grand': 2715, 'comfort': 1320, 'performance': 4290, 'absolute': 279, 'joy': 3240, 'satisfying': 5070, 'purchase': 4640, 'standpoint': 5469, 'rotation': 4998, 'angle': 493, 'putting': 4657, 'netbook': 3951, 'highest': 2883, 'pitched': 4365, 'string': 5552, 'viola': 6206, 'operating': 4110, 'system': 5692, 'believe': 806, 'alone': 442, 'came': 1042, '15th': 36, 'century': 1138, 'shi': 5222, 'rebellion': 4755, 'launched': 3363, 'arabs': 570, 'consider': 1436, 'literary': 3479, 'celsius': 1129, 'uppsala': 6103, 'sweden': 5673, 'hybrid': 2982, 'animal': 499, 'resulting': 4921, 'puma': 4633, 'ketchup': 3268, 'minnan': 3769, 'pronunciation': 4598, '39853': 219, '27713': 190, 'koe': 3305, 'tsiap': 5989, 'anticlerical': 524, 'compact': 1350, 'warmest': 6271, 'month': 3814, 'june': 3245, 'semantics': 5162, 'causes': 1115, 'false': 2297, 'friends': 2550, 'several': 5196, 'toolbars': 5888, 'ok': 4085, 'maximized': 3668, 'documents': 1897, 'online': 4098, 'research': 4883, 'materials': 3654, '1996': 150, 'movie': 3849, 'picasso': 4345, 'played': 4389, 'actor': 330, 'anthony': 520, 'hopkins': 2935, 'lobsters': 3495, 'invertebrates': 3162, 'coastline': 1281, 'extensively': 2259, 'celebrated': 1122, 'holiday': 2920, 'war': 6269, 'currents': 1614, 'ulysses': 6034, 'grant': 2717, 'american': 469, 'civil': 1230, 'married': 3633, 'whitehouse': 6336, 'profession': 4577, 'expected': 2233, 'compared': 1354, '1999': 152, 'spacious': 5402, 'drive': 1946, 'handles': 2784, 'eels': 2019, 'predators': 4498, 'caused': 1114, 'wilson': 6361, 'ask': 613, 'congress': 1419, 'declare': 1680, 'central': 1135, 'powers': 4477, 'front': 2555, 'lumbar': 3549, 'support': 5640, 'seemed': 5148, 'si': 5258, 'charge': 1162, 'second': 5132, 'country': 1535, 'total': 5895, 'head': 2827, 'watt': 6288, 'adulthood': 368, 'designated': 1765, 'layover': 3373, 'site': 5305, 'airlines': 417, 'tons': 5883, 'pilots': 4360, 'flight': 2438, 'attendants': 641, 'everywhere': 2196, 'added': 339, 'familiar': 2299, 'feeling': 2339, 'americans': 470, 'takes': 5707, 'sometime': 5375, 'parliament': 4233, 'unicameral': 6058, 'fantastic': 2305, 'local': 3496, 'amenities': 467, 'although': 453, 'ways': 6293, 'would': 6417, 'preferred': 4507, 'authentic': 668, 'couldn': 1524, 'combination': 1315, 'surprised': 5654, 'less': 3421, 'obtrusive': 4049, 'white': 6335, 'book': 896, 'growing': 2748, 'tired': 5865, 'quickly': 4675, 'department': 1738, 'rights': 4954, 'must': 3880, 'returned': 4931, 'public': 4628, 'railroads': 4696, 'extend': 2256, 'lines': 3459, 'according': 306, 'agreements': 405, 'berlin': 821, 'building': 982, 'architect': 575, 'norman': 4006, 'foster': 2503, 'remodel': 4841, '1990s': 144, 'economy': 2007, 'wish': 6379, 'pause': 4255, 'marked': 3629, 'asterisk': 626, 'looking': 3518, 'inside': 3105, 'commendable': 1331, 'problems': 4560, 'different': 1809, 'choose': 1203, 'even': 2183, 'australian': 663, 'chosen': 1208, 'candidate': 1052, '1860': 88, 'napoleon': 3898, 'mascot': 3641, 'bowdoin': 922, 'college': 1300, 'twenty': 6016, 'seventh': 5195, 'panther': 4216, 'felid': 2343, 'vary': 6150, 'greatly': 2728, 'coleoptera': 1293, 'cougar': 1521, 'heavier': 2843, 'females': 2351, 'period': 4294, 'rapid': 4713, 'economic': 2005, 'growth': 2749, 'dated': 1651, 'prehistoric': 4511, 'performs': 4292, 'changi': 1155, 'airport': 418, 'network': 3955, '81': 254, 'connecting': 1426, '185': 83, '58': 231, 'countries': 1534, 'cause': 1113, 'earthquakes': 1987, 'asia': 610, 'fared': 2308, 's08_settlement': 5023, 'branching': 934, 'insignificant': 3106, 'gracing': 2708, 'own': 4178, 'violinist': 6212, 'boyd': 930, 'tinsley': 5860, 'dollar': 1903, 'densely': 1735, 'populated': 4442, 'independent': 3057, 'carleton': 1078, 'university': 6074, 'athletic': 632, 'teams': 5740, 'child': 1191, 'prodigy': 4566, 'educated': 2015, 'servant': 5184, 'massachus08_setts': 3644, 'send': 5166, '1774': 58, 'strong': 5559, 'maritime': 3627, 'interests': 3135, 'cover': 1544, 'magazine': 3575, 'outer': 4163, 'layer': 3371, 'cuticle': 1621, 'fingerprint': 2399, 'magnet': 3578, 'reflective': 4795, 'light': 3441, 'languages': 3340, 'korean': 3307, 'descended': 1753, 'oil': 4084, 'probably': 4558, 'remain': 4834, 'backbone': 712, 'qatar': 4662, 'close': 1262, 'gets': 2644, 'v6': 6132, 'camrys': 1047, 'styling': 5579, 'looks': 3519, 'sporty': 5439, 'aggressive': 397, 'indonesia': 3070, 'break': 938, 'relations': 4819, 'regional': 4807, 'hub': 2961, 'aristotle': 587, 'say': 5079, 'elephants': 2054, 'tray': 5958, 'plus': 4411, 'refuse': 4800, 'tip': 5862, 'delivery': 1721, 'lee': 3397, 'kuan': 3316, 'yew': 6451, 'minister': 3768, 'sudden': 5604, 'distort': 1874, 're': 4731, 'start': 5475, 'becoming': 784, 'increasingly': 3048, 'secondly': 5133, 'record': 4773, 'won': 6390, 'pictures': 4354, 'tiger': 5844, 'seized': 5154, 'crocodile': 1585, 'isaac': 3178, '1898': 105, 'wolf': 6386, 'teeth': 5748, 'main': 3582, 'weapons': 6298, 'foxes': 2517, 'damage': 1636, 'fruit': 2557, 'farms': 2312, 'term': 5767, 'writing': 6425, 'hán': 2988, 'keep': 3260, 'mine': 3761, 'lowest': 3544, 'pages': 4190, 'often': 4082, 'recommend': 4772, 'citizen': 1226, 'type': 6020, 'creatures': 1571, 'breathe': 942, 'air': 414, 'lay': 3369, 'eggs': 2028, 'underwater': 6051, 'grocery': 2740, 'store': 5525, 'stinks': 5514, 'may': 3670, 'engine': 2095, 'want': 6266, 'reasonably': 4753, 'choice': 1199, 'near': 3925, 'hyde': 2983, 'park': 4231, 'stuff': 5573, 'chelea': 1178, 'productivity': 4574, 'flow': 2445, 'conventional': 1490, 'full': 2560, 'sized': 5316, 'honda': 2928, 'anti': 522, 'sway': 5672, 'vehicles': 6162, 'cornering': 1510, 'speeds': 5420, 'beautiful': 777, 'eagle': 1980, 'scout': 5108, 'things': 5813, 'wow': 6420, 'nav': 3916, 'mp3': 3853, 'decided': 1677, 'memory': 3708, 'cam': 1039, 'haven': 2823, 'quite': 4680, 'mastered': 3649, 'yet': 6449, 'okay': 4086, 'elephant': 2053, 'important': 3024, 'temperature': 5757, 'regulation': 4813, 'hi': 2876, 'superior': 5634, 'always': 456, 'thought': 5828, 'practical': 4481, 'sedan': 5142, 'screean': 5112, '22': 177, 'town': 5911, 'nicest': 3974, 'seats': 5130, 'vehicle': 6161, 'owned': 4179, 'contribution': 1478, 'field': 2369, 'geotechnical': 2636, 'engineering': 2097, 'famous': 2301, 'next': 3968, 'picadilly': 4344, 'line': 3457, 'stop': 5521, 'successful': 5600, 'radioactivity': 4691, 'edged': 2012, 'mountains': 3841, 'nc': 3921, 'virginia': 6216, 'fell': 2347, '30': 200, 'otters': 4156, 'water': 6285, 'koala': 3303, 'fill': 2381, 'ecological': 2003, 'role': 4972, 'sloth': 5333, 'south': 5393, 'borrowed': 910, 'numerous': 4036, 've': 6157, 'bought': 917, 'low': 3542, 'emissions': 2069, 'safety': 5033, 'rating': 4722, 'considering': 1440, 'trading': 5921, 'nervous': 3947, 'fact': 2282, 'occasionally': 4053, 'image': 3010, 'shivered': 5231, 'normally': 4005, 'recovered': 4778, 'bee': 789, 'insect': 3102, 'administrative': 360, 'vietnam': 6195, 'event': 2185, 'delicious': 1717, 'long': 3512, 'guard': 2751, 'hair': 2773, 'hear': 2837, 'totally': 5896, 'blank': 861, 'cylinder': 1627, 'am': 457, 'peppy': 4280, 'leaves': 3392, 'legacy': 3400, 'hero': 2870, 'accidentally': 300, 'knocked': 3299, 'easily': 1992, 'asus': 629, 'special': 5410, 'controls': 1484, 'update': 6092, 'expand': 2226, 'built': 984, 'machine': 3568, 'useful': 6122, 'advertisements': 376, 'buying': 1014, 'angoulãªme': 497, 'contour': 1474, 'creates': 1568, 'pressure': 4525, 'tiring': 5867, 'downright': 1926, 'painful': 4193, '255w': 185, 'received': 4758, 'longer': 3513, 'find': 2391, 'satelite': 5064, 'man': 3609, 'confused': 1415, 'roo': 4986, 'japanese': 3213, 'invasion': 3157, 'subsequent': 5592, 'end': 2085, 'dutch': 1971, 'joeys': 3230, 'complete': 1361, 'postnatal': 4466, 'development': 1786, '1838': 80, 'stars': 5474, 'jill': 3228, 'doesn': 1899, 'ghost': 2651, 'bus': 998, 'aburukuwa': 285, 'drum': 1954, 'cousin': 1542, 'anders': 487, 'died': 1804, 'types': 6022, 'unrelated': 6082, 'birds': 848, 'forms': 2494, 'ducks': 1965, 'commodore': 1339, 'matthew': 3662, 'perry': 4300, 'sent': 5174, 'japan': 3212, 'trade': 5917, 'swedish': 5675, 'participle': 4238, 'present': 4516, 'tense': 5764, 'renowned': 4853, 'works': 6406, 'renaissance': 4849, 'mic': 3733, 'speaker': 5407, 'playback': 4388, 'bedtime': 788, 'watching': 6284, 'device': 1787, 'lighter': 3442, '4th': 226, 'gen': 2614, 'plenty': 4402, 'pick': 4349, 'go': 2685, 'four': 2514, 'along': 443, 'handling': 2785, 'see': 5144, 'bios': 846, 'startup': 5480, 'cracked': 1550, 'pollution': 4432, 'beijing': 802, 'disadvantage': 1835, 'unsafe': 6084, 'handle': 2783, 'best': 824, 'loved': 3536, 'nearby': 3926, 'safe': 5032, 'day': 1657, 'night': 3979, 'jr': 3241, 'las': 3353, 'vegas': 6158, 'door': 1915, 'coupe': 1537, 'draws': 1942, 'attention': 643, 'clarity': 1236, 'readable': 4739, 'broad': 961, 'popular': 4438, 'appeal': 540, 'rockwell': 4968, 'illustrations': 3009, 'everyday': 2192, 'scenarios': 5086, 'created': 1567, 'saturday': 5071, 'evening': 2184, 'post': 4464, 'decades': 1673, 'downloading': 1924, 'customer': 1618, 'terrific': 5774, 'changed': 1153, 'chelonian': 1180, 'crater': 1560, 'moon': 3822, 'kit': 3291, 'diatonic': 1797, 'chromatically': 1214, 'tuned': 5995, 'drums': 1958, 'ideas': 2995, 'enlightenment': 2111, 'shaped': 5210, 'loaded': 3490, 'options': 4119, 'every': 2190, 'loves': 3540, 'island': 3181, 'fingered': 2398, 'gesture': 2642, 'scratchpad': 5111, 'enlarge': 2110, 'shrink': 5256, 'phone': 4325, 'someone': 5372, 'ability': 269, 'mute': 3882, '1854': 85, 'san': 5050, 'lorenzo': 3521, 'megaport': 3697, 'project': 4585, 'completed': 1362, 'horace': 2936, 'greenley': 2733, 'lose': 3525, 'elections': 2040, '1872': 93, 'before': 796, 'latei': 3357, 'simply': 5288, 'pump': 4634, 'character': 1158, 'eases': 1989, 'occupy': 4059, 'chair': 1144, 'histoire': 2903, 'naturelle': 3913, 'st': 5454, 'attend': 640, 'school': 5093, 'meet': 3696, 'anna': 502, 'goodhue': 2695, 'beta': 825, 'six': 5312, 'fine': 2395, 'suits': 5616, 'finnish': 2408, 'divided': 1886, 'groups': 2745, 'positions': 4458, 'football': 2471, 'team': 5739, 'totem': 5897, 'heated': 2841, 'audio': 655, 'rocking': 4966, 'fossil': 2502, 'dna': 1891, 'evidence': 2198, 'butterflies': 1008, 'verb': 6166, 'paradigms': 4225, 'cant': 1057, 'headphones': 2831, 'given': 2663, 'sea': 5120, 'muscular': 3873, 'tails': 5701, 'literally': 3478, 'minute': 3773, 'corner': 1509, 'pubs': 4631, 'eateries': 1997, 'nation': 3903, 'invaded': 3156, 'ii': 3000, 'sukarno': 5617, 'era': 2141, 'monuments': 3820, 'disk': 1856, 'encryption': 2084, 'normal': 4004, 'users': 6125, 'isn': 3183, 'hardware': 2801, 'adopted': 366, 'outstanding': 4170, 'internet': 3143, 'cafe': 1024, 'pan': 4212, 'spread': 5444, 'parts': 4243, 'color': 1309, '11': 20, 'march': 3623, '1874': 94, 'effects': 2022, 'stroke': 5556, 'variable': 6144, 'enables': 2082, 'purling': 4644, 'definitely': 1704, 'fair': 2290, 'combined': 1317, 'touristy': 5907, 'viewed': 6198, 'indoor': 3072, 'environments': 2130, 'damn': 1639, 'batte': 758, 'men': 3709, 'african': 390, 'secret': 5135, 'society': 5356, 'practised': 4484, 'cannibalism': 1055, 'ottoman': 4157, 'script': 5115, 'replaced': 4858, 'variant': 6145, 'alphabet': 447, 'ottowa': 4158, 'river': 4958, 'ciliwung': 1218, 'contain': 1459, 'sensory': 5172, 'organs': 4135, '98': 262, 'avalon': 684, 'found': 2505, 'dipthongs': 1826, 'responsible': 4909, 'converting': 1494, 'hydrogen': 2984, 'byproduct': 1018, 'fermentation': 2357, 'acetate': 314, 'happy': 2796, 'finland': 2404, 'taloussanomat': 5715, 'glouchester': 2679, 'anglo': 495, 'saxons': 5078, '600s': 236, 'population': 4443, 'willing': 6360, 'downsize': 1929, 'favor': 2322, 'portability': 4449, 'speed': 5419, 'pandas': 4214, 'commute': 1347, 'alot': 445, 'seem': 5147, 'cheap': 1173, 'top': 5891, 'notch': 4015, 'challenges': 1146, 'establishing': 2160, 'eurasian': 2175, 'uk': 6030, 'commissioned': 1337, 'illustrate': 3008, '40': 221, 'including': 3041, 'tom': 5876, 'sawyer': 5077, 'huckleberry': 2962, 'finn': 2406, 'seven': 5194, 'speech': 5418, 'levels': 3429, 'finished': 2403, 'congressional': 1420, 'newington': 3962, 'butts': 1011, 'england': 2098, 'three': 5831, 'months': 3815, 'duck': 1963, 'mean': 3677, 'sizes': 5317, 'switch': 5679, 'amedeo': 466, 'turin': 6001, 'step': 5501, 'spreading': 5445, 'create': 1566, 'written': 6427, 'francisco': 2527, 'percentage': 4283, 'gay': 2606, 'lesbian': 3420, 'individuals': 3069, 'italian': 3192, 'primarily': 4541, 'speaking': 5409, 'christian': 1210, 'sandemanian': 5052, 'denomination': 1734, 'quack': 4664, 'showroom': 5253, 'below': 811, 'advertised': 375, 'seems': 5149, 'institution': 3114, 'formed': 2491, 'foundation': 2506, 'electric': 2041, 'motor': 3836, 'technology': 5746, 'greek': 2730, 'xylon': 6436, 'everyone': 2193, 'starts': 5479, 'agree': 403, 'adams': 336, 'opponent': 4113, 'stamp': 5462, 'act': 324, 'egypt': 2029, 'political': 4428, 'influence': 3083, 'tongue': 5882, 'firm': 2414, 'harsh': 2808, 'maxima': 3667, 'ears': 1985, 'electronic': 2049, 'ink': 3093, 'lighting': 3443, 'pounding': 4470, 'relentlessly': 4826, 'desert': 1762, 'sun': 5624, 'tender': 5762, 'heritable': 2869, 'recessive': 4762, 'gene': 2617, 'locus': 3504, 'grey': 2736, 'colour': 1311, 'background': 713, 'relaxing': 4824, 'lima': 3452, 'founded': 2508, 'laws': 3368, 'motion': 3835, 'netwon': 3954, 'past': 4250, 'accords': 307, 'private': 4554, 'buffalo': 977, 'date': 1650, 'regarding': 4803, 'topic': 5892, 'david': 1653, 'alfaro': 431, 'siqueiros': 5301, 'enjoys': 2108, 'standards': 5466, 'stayed': 5495, 'cleanliness': 1250, '1005ha': 13, 'yesterday': 6448, 'installed': 3110, 'gb': 2608, 'ram': 4707, 'tried': 5970, 'remained': 4835, 'tobogganing': 5872, 'annoying': 511, 'passion': 4249, 'gerald': 2637, 'delta': 1723, 'kappa': 3258, 'epsilon': 2133, 'web': 6302, 'connectivity': 1428, 'squint': 5450, 'factor': 2283, 'fairly': 2291, 'range': 4709, 'lifespans': 3439, 'direct': 1827, 'trains': 5929, 'heathrow': 2842, 'terminals': 5768, 'exit': 2224, 'hotels': 2945, 'expect': 2230, 'hills': 2893, 'build': 981, 'reflecting': 4793, 'telescope': 5751, 'passed': 4248, 'cost': 1518, 'breakfast': 939, 'insane': 3100, 'tends': 5763, 'mediocre': 3693, 'slightly': 5329, 'concerned': 1390, 'reviews': 4937, 'similarities': 5284, 'grasshoppers': 2721, 'experienced': 2237, 'smooth': 5346, 'stability': 5455, 'enjoying': 2107, '2008': 167, 'accord': 305, '1828': 77, 'hours': 2949, 'wireless': 6375, 'brightness': 954, 'minimum': 3767, 'piano': 4342, 'fewer': 2363, 'harp': 2806, 'stiffer': 5511, 'hour': 2947, 'trip': 5973, 'once': 4095, 'adjusted': 354, 'liking': 3451, 'leave': 3391, 'desired': 1769, 'terms': 5770, 'verroccio': 6171, 'studio': 5571, 'pretty': 4528, 'informally': 3086, 'fiddle': 2366, 'regardless': 4804, 'originated': 4142, 'sumatra': 5620, 'poor': 4435, 'health': 2835, 'throughout': 5839, 'explorer': 2245, 'learning': 3387, 'navigate': 3917, 'menu': 3716, 'variety': 6148, 'addition': 342, 'powerfully': 4476, 'legs': 3407, 'shoulders': 5248, 'allow': 437, 'uses': 6126, 'worried': 6411, 'everything': 2194, 'run': 5015, 'luther': 3557, 'bible': 831, 'martin': 3639, 'printed': 4551, 'annual': 512, 'festivals': 2360, 'taipei': 5702, 'intonation': 3150, 'sporting': 5437, 'events': 2187, 'mile': 3749, 'florida': 2444, 'georgia': 2635, 'carolina': 1082, '32': 207, 'heavily': 2845, '150': 35, 'yards': 6443, 'moscow': 3828, 'awesome': 703, 'howl': 2957, '1908': 111, 'permanent': 4297, 'secretary': 5136, 'académie': 290, 'des': 1750, 'sciences': 5097, 'orchid': 4126, 'garden': 2597, 'outside': 4168, 'patisserie': 4252, 'coffee': 1286, 'shop': 5236, 'supportive': 5644, 'electrolyte': 2047, 'sulphuric': 5619, 'acid': 318, 'michael': 3735, 'chain': 1143, 'anthing': 519, 'closer': 1265, 'lies': 3437, 'zones': 6472, 'olympiastadion': 4092, 'fuel': 2558, 'indicator': 3064, 'shows': 5254, 'approx': 560, 'backlighted': 715, 'traditional': 5923, 'lyre': 3561, 'stringed': 5553, 'musical': 3877, 'instrument': 3118, 'reside': 4890, 'charged': 1163, 'conductor': 1403, 'eye': 2269, 'strain': 5536, 'daylight': 1658, 'conditions': 1402, 'agyekum': 409, 'kufuor': 3317, 'fm': 2454, 'darn': 1646, 'cool': 1498, '08': 6, 'designed': 1766, 'level': 3428, 'tl': 5869, 'breed': 945, 'religion': 4830, 'allows': 439, 'butterfly': 1009, 'evade': 2180, 'quartered': 4666, 'egyptian': 2030, 'albert': 425, 'hall': 2776, 'indian': 3060, 'concert': 1392, 'flutes': 2450, 'pitches': 4366, '20s': 171, 'should': 5246, 'improve': 3030, 'mandarin': 3615, 'hesitancy': 2871, 'acceleration': 291, 'bursts': 997, 'excessive': 2214, 'rpms': 5006, 'cruise': 1596, 'kept': 3267, 'spotlessly': 5441, '1989': 143, 'running': 5016, 'giving': 2665, 'breeze': 947, 'eazy': 2001, 'younger': 6455, 'students': 5568, 'mars': 3636, 'note': 4016, 'competitor': 1358, 'coming': 1326, 'homer': 2926, 'simpson': 5289, 'version': 6172, 'defended': 1698, 'slavery': 5321, 'slaves': 5322, 's08_set': 5021, 'sunday': 5626, 'melbourne': 3698, 'actually': 333, 'ones': 4097, 'matt': 3659, 'stunning': 5574, 'shining': 5228, 'down': 1920, 'dragonflies': 1934, 'source': 5391, 'interface': 3136, 'bottom': 916, 'removed': 4847, 'away': 701, 'train': 5927, 'almost': 441, 'anywhere': 536, '15': 34, 'prefixes': 4509, 'en': 2081, 'em': 2060, 'nasalized': 3901, 'determine': 1780, 'dependence': 1740, 'boiling': 887, 'atmospheric': 636, 'agreement': 404, 'data': 1649, 'drivers': 1949, 'models': 3790, 'class': 1239, 'greece': 2729, 'nikola': 3982, 'mark': 3628, 'twain': 6015, 'german': 2638, 'troops': 5976, 'surprisingly': 5656, 'concentrated': 1384, 'southern': 5395, 'trainee': 5928, 'desk': 1770, 'struggle': 5565, 'affected': 382, 'traffic': 5925, 'noise': 3996, 'frills': 2551, 'provider': 4618, 'became': 780, 'columns': 1314, 'rows': 5004, 'couldnt': 1525, 'reallly': 4747, 'shoot': 5233, '16': 37, 'gigs': 2656, 'aweosme': 702, 'glasgow': 2670, 'guild': 2757, 'hammermen': 2778, 'reject': 4814, 'application': 549, 'mathematical': 3655, 'maker': 3593, 'embassy': 2062, 'bombed': 889, 'august': 657, '1998': 151, 'scholars': 5092, 'rank': 4710, 'among': 473, 'presidents': 4523, 'zoom': 6473, 'occasion': 4051, 'inadvertent': 3036, 'thumb': 5841, 'etc': 2169, 'permanently': 4298, 'stationed': 5486, 'paris': 4230, 'destinations': 1775, 'conventions': 1491, 'conferences': 1406, 'status': 5490, 'free': 2534, 'hanseatic': 2791, 'genius': 2628, 'convincing': 1496, 'proof': 4599, 'strength': 5545, 'invent': 3158, 'remotely': 4844, 'operated': 4108, 'pistol': 4363, 'averaged': 687, '23': 179, 'mpg': 3854, 'increased': 3046, 'slowly': 5336, 'handy': 2788, 'needs': 3936, 'transport': 5946, 'eucalypt': 2173, 'forests': 2484, 'grow': 2747, 'rainforests': 4702, 'laid': 3330, 'peter': 4315, 'paul': 4254, 'fortress': 2498, 'crawl': 1562, 'afraid': 388, 'humans': 2967, 'non': 4001, 'tts': 5990, 'domestic': 1908, 'supply': 5639, 'colors': 1310, 'commonly': 1341, 'compute': 1379, 'results': 4922, 'chemical': 1181, 'reactions': 4737, 'monas': 3805, 'style': 5577, 'xylophones': 6438, 'characterised': 1159, 'mexico': 3730, 'contains': 1461, 'feelings': 2340, 'refers': 4789, 'wrote': 6429, 'crashed': 1558, 'unexpectedly': 6054, 'displayed': 1860, 'capable': 1061, 'unjust': 6075, 'moravia': 3823, 'lower': 3543, 'austria': 664, 'silesia': 5278, 'styria': 5581, 'though': 5827, 'cases': 1092, 'territories': 5776, 'held': 2851, 'fief': 2368, 'senior': 5167, 'feudal': 2361, 'lords': 3520, 'far': 2306, 'super': 5631, 'lets': 3425, 'dealership': 1667, 'ordered': 4128, 'cushion': 1617, 'today': 5873, 'speakers': 5408, 'understand': 6047, 'orkhon': 4144, 'inscriptions': 3101, 'selection': 5158, 'buffet': 978, 'contained': 1460, 'beginnings': 800, 'browsing': 968, 'measuring': 3683, 'magnetic': 3579, 'flux': 2451, 'density': 1736, 'induction': 3073, 'product': 4571, 'jog': 3231, 'watch': 6282, 'stuck': 5566, 'subway': 5597, 'unbeatable': 6037, 'relationship': 4820, 'charges': 1165, 'poles': 4421, 'farmer': 2310, 'later': 3358, 'surveyor': 5661, 'hate': 2819, 'itunes': 3199, 'necessary': 3930, 'evil': 2199, 'tag': 5698, 'originally': 4140, 'started': 5476, '3rd': 220, 'party': 4244, 'apps': 563, 'syncing': 5688, 'canada': 1049, 'unemployment': 6052, 'rate': 4718, 'louise': 3533, 'désirée': 1978, 'lorieux': 3522, 'personalize': 4305, 'environment': 2128, 'seating': 5129, 'leg': 3399, 'opposed': 4115, 'republican': 4875, 'nomination': 3999, 'governor': 2704, '1918': 117, 'ballet': 727, 'pyotr': 4659, 'tchaikovsky': 5735, 'partially': 4236, 'based': 750, 'ancient': 485, 'legend': 3403, 'princess': 4545, 'noted': 4017, 'apart': 538, 'characteristic': 1160, 'text': 5785, '19th': 153, 'storage': 5524, 'alarm': 422, 'clock': 1261, 'tunes': 5997, 'lock': 3502, 'button': 1010, 'ease': 1988, 'cons': 1432, 'continental': 1468, 'immigrants': 3016, 's08_settle': 5022, 'prairies': 4486, '1785': 60, 'older': 4089, 'sources': 5392, 'surfing': 5648, 'net': 3950, 'dealing': 1668, 'demanding': 1724, 'trumpeter': 5982, 'bird': 847, 'anxiety': 530, 'bouts': 920, 'mental': 3710, 'illness': 3005, 'largely': 3348, 'unknown': 6076, '37': 216, 'self': 5159, 'inflicted': 3082, 'gunshot': 2761, 'wound': 6419, 'thrills': 5832, 'sunlight': 5628, 'brighter': 953, 'computers': 1382, 'updates': 6094, 'aside': 612, 'missing': 3781, 'turbo': 6000, 'entries': 2126, 'definitions': 1706, 'zhonghua': 6465, 'zihai': 6468, '20013': 161, '21326': 175, '23383': 180, '28023': 192, '1994': 148, 'window': 6364, 'here': 2868, 'unless': 6077, 'antwerp': 529, 'cymbals': 1630, 'historically': 2907, 'suggest': 5610, 'bacchanal': 710, 'stepped': 5502, 'superb': 5632, 'collective': 1298, 'noun': 4025, 'romp': 4985, 'group': 2744, 'due': 1966, 'numbers': 4034, 'actual': 332, 'search': 5123, 'function': 2567, 'arrived': 597, 'borrow': 909, 'repairs': 4855, 'violins': 6214, 'panda': 4213, 'communicate': 1342, 'distances': 1866, 'desargues': 1751, 'conic': 1422, 'sections': 5140, 'impressionist': 3028, 'renoir': 4851, '1876': 95, 'dance': 1641, 'le': 3376, 'moulin': 3837, 'la': 3324, 'galette': 2586, 'einstein': 2033, 'photograph': 4332, 'wall': 6263, 'processor': 4563, 'softwares': 5361, 'battery': 761, 'bowed': 923, 'typically': 6025, 'grammar': 2713, 'minimal': 3765, 'inflection': 3080, 'police': 4422, 'whistle': 6334, 'wide': 6347, 'pitch': 4364, 'report': 4861, 'kangaroo': 3255, 'blindness': 867, 'worker': 6402, 'wings': 6371, 'recitations': 4763, 'greeks': 2731, 'accompanied': 303, 'playing': 4393, 'charm': 1169, 'spot': 5440, 'availabe': 679, 'broken': 962, 'steady': 5498, '29': 193, 'diphthongs': 1823, 'areas': 581, 'bland': 860, 'distant': 1867, 'nickname': 3975, 'theodore': 5801, 'roosevelt': 4991, 'sister': 5303, 'plays': 4394, 'records': 4777, 'completely': 1363, 'surrounded': 5658, 'meaningful': 3679, 'ear': 1981, 'buds': 976, 'internal': 3141, 'thirteenth': 5820, 'sharp': 5215, 'hightest': 2887, 'biodiversity': 841, 'review': 4935, 'add': 338, 'angered': 492, 'residents': 4894, 'thirteen': 5819, 'colonies': 1308, 'somali': 5370, 'coast': 1279, 'half': 2774, 'eight': 2031, 'wi': 6346, 'fi': 2364, 'wanted': 6267, 'temple': 5758, 'shore': 5239, 'lake': 3331, 'center': 1133, 'descent': 1754, 'franciscio': 2526, 'carrion': 1085, 'dung': 1968, 'agricultural': 407, 'expansion': 2229, '500': 228, 'cafes': 1025, 'stores': 5528, 'factory': 2285, 'settings': 5193, 'preserve': 4519, 'luminescence': 3550, 'ambience': 465, 'illumination': 3006, 'legal': 3401, 'career': 1075, 'oldest': 4090, 'return': 4930, 'admire': 361, 'driving': 1951, 'atleast': 633, 'job': 3229, 'sri': 5452, 'lanka': 3341, 'christ': 1209, 'lightweight': 3445, 'hold': 2914, 'depending': 1742, 'situation': 5310, 'copyright': 1507, 'representative': 4866, 'administration': 359, 'artists': 606, 'gliding': 2672, 'define': 1701, 'quietness': 4678, 'minimizing': 3766, 'scroll': 5116, 'wise': 6377, 'suddenly': 5605, 'scrolling': 5118, 'positive': 4459, 'inn': 3096, 'forum': 2500, 'conference': 1405, 'attending': 642, 'letter': 3426, 'foul': 2504, 'condition': 1400, 'thames': 5787, 'resulted': 4920, 'oft': 4081, 'reprinted': 4869, 'cartoon': 1089, 'punch': 4635, 'swedes': 5674, 'please': 4397, 'mr': 3857, 'committee': 1338, 'draft': 1932, 'declaration': 1679, 'independence': 3056, 'nicely': 3972, 'blast': 862, 'covered': 1545, 'incubate': 3052, 'pasan': 4245, 'consecuencia': 1433, 'palabras': 4201, 'que': 4668, 'comienzan': 1325, 'por': 4446, 'estas': 2161, 'dos': 1916, 'letras': 3424, 'contienen': 1466, 'alfabetizarse': 430, 'los': 3523, 'lugares': 3548, 'les': 3419, 'corresponden': 1515, 'dentro': 1737, 'respectivamente': 4905, 'served': 5186, 'headquarters': 2832, 'launching': 3364, 'iraq': 3172, '2003': 162, 'graduating': 2712, 'amherst': 472, '186': 87, 'pixels': 4369, 'maintenance': 3588, 'require': 4879, 'morning': 3826, 'amazingly': 462, 'mode': 3787, 'browser': 967, 'f11': 2275, 'resonators': 4900, 'hardened': 2798, 'brushes': 969, 'sticks': 5508, 'southeastern': 5394, 'wax': 6291, 'real': 4744, 'estate': 2162, '20th': 172, 'princeton': 4546, 'cemetery': 1131, 'nassau': 3902, 'presbyterian': 4514, 'outdoors': 4162, 'reflections': 4794, 'terrestrial': 5772, 'availability': 680, 'software': 5360, 'improved': 3031, 'taskbar': 5724, 'peek': 4269, 'aero': 379, 'biggest': 835, 'backlight': 714, 'current': 1612, 'constitution': 1453, 'visited': 6223, 'cuba': 1601, 'mention': 3711, 'possible': 4463, 'meanings': 3680, 'argue': 584, 'leonardo': 3415, 'da': 1632, 'vinci': 6204, 'valued': 6139, 'engineer': 2096, '00': 0, 'dollars': 1904, 'fancy': 2302, 'similarly': 5286, 'hilton': 2894, 'metropole': 3729, 'receive': 4757, 'download': 1921, 'plan': 4379, 'getting': 2646, 'season': 5126, 'mood': 3821, 'feed': 2336, 'krill': 3313, 'went': 6314, 'fit': 2418, 'budget': 975, 'ex': 2202, 'cyl': 1626, 'compensate': 1355, 'tones': 5880, 'short': 5240, 'released': 4825, 'album': 426, 'song': 5379, 'warren': 6274, 'commission': 1336, 'sightseeing': 5270, 'shopping': 5237, 'osu': 4148, 'castle': 1096, 'through': 5838, 'glasses': 2671, 'setting': 5192, 'kindle2': 3284, 'bears': 775, 'swimmers': 5677, 'aa': 265, 'keys': 3271, 'turning': 6008, 'rather': 4721, 'already': 448, 'lingua': 3460, 'franca': 2522, 'archipelago': 574, 'mechanism': 3688, 'perpendicular': 4299, 'michigan': 3737, 'tall': 5712, 'tallest': 5714, 'schloss': 5089, 'charlottenburg': 1168, 'existing': 2223, 'palace': 4202, 'write': 6422, 'defense': 1699, 'scientific': 5098, 'problem': 4559, 'easiest': 1991, 'above': 274, 'romantic': 4984, 'unchanged': 6040, 'tools': 5889, 'biologists': 844, 'capture': 1067, 'tagging': 5699, 'dependent': 1741, 'harrods': 2807, 'mins': 3772, 'ground': 2742, 'disappointing': 1841, 'extra': 2266, 'space': 5400, 'address': 344, 'sorely': 5384, 'management': 3611, 'grip': 2739, 'league': 3381, 'nations': 3906, 'crystal': 1600, 'averages': 688, '33': 210, 'freeway': 2537, 'honest': 2929, 'lunch': 3553, 'servers': 5187, 'hit': 2910, 'cursor': 1615, 'content': 1464, 'laggy': 3329, 'switching': 5681, 'taken': 5706, 'care': 1073, 'differences': 1808, 'recognized': 4770, 'factors': 2284, 'openness': 4106, 'length': 3411, 'consonants': 1448, 'dialect': 1793, 'ranked': 4711, '22nd': 178, 'hart': 2809, 'list': 3472, 'influential': 3085, 'figures': 2377, 'enjoyed': 2106, 'skimpy': 5319, 'foreign': 2481, 'policy': 4424, 'operates': 4109, 'moderate': 3792, 'established': 2159, 'objective': 4043, 'intensifying': 3127, 'debate': 1670, 'garmin': 2601, 'comming': 1335, 'risk': 4957, 'extinction': 2264, 'hockey': 2913, 'transnational': 5942, 'bridge': 948, 'sharpness': 5216, 'k2': 3253, 'severely': 5198, 'produces': 4569, 'fatigue': 2320, 'damascus': 1638, 'cairo': 1027, 'tremor': 5966, 'occur': 4060, 'expired': 2242, 'projections': 4587, 'papillae': 4223, 'lived': 3485, 'columbia': 1312, 'sense': 5168, 'hearing': 2839, 'taylor': 5734, 'disagree': 1836, 'millard': 3755, 'smoked': 5345, 'sporadically': 5434, 'recent': 4759, 'conservation': 1435, 'efforts': 2026, 'agriculture': 408, 'nile': 3984, 'valley': 6136, 'baldassare': 724, 'castiglione': 1095, 'author': 669, 'il': 3002, 'cortegiano': 1517, 'courtier': 1541, 'strained': 5537, 'decreasing': 1688, 'file': 2378, 'spend': 5422, 'artist': 605, 'residence': 4892, 'otis': 4153, 'april': 564, 'religious': 4832, 'bilingual': 836, 'views': 6201, 'consistent': 1442, 'anglicanism': 494, 'mostly': 3831, 'typos': 6026, 'smallness': 5340, 'doing': 1902, 'pharmacy': 4321, 'blocks': 869, 'museums': 3875, 'published': 4630, '1738': 49, 'higher': 2882, 'prcessors': 4489, 'headaches': 2829, 'neutral': 3957, 'medium': 3695, 'reported': 4862, 'relative': 4821, 'gravitation': 2722, 'kinds': 3285, 'remote': 4843, 'allowed': 438, 'lean': 3382, 'forward': 2501, 'responded': 4908, 'names': 3896, 'petrograd': 4317, '1914': 114, '1924': 120, 'leningrad': 3414, '1991': 145, 'attack': 638, 'purchased': 4641, 'amount': 475, 'reliable': 4828, 'advantageous': 372, 'plate': 4385, 'massive': 3646, 'olympic': 4093, 'miles': 3751, 'likely': 3449, 'feedon': 2337, 'mice': 3734, 'zebras': 6463, 'interbreed': 3131, 'upscale': 6105, 'manual': 3617, 'transmission': 5940, 'racial': 4685, 'integration': 3124, 'title': 5868, 'roughly': 5000, 'translated': 5936, 'essay': 2154, 'determining': 1782, 'masses': 3645, 'elementary': 2052, 'molecules': 3799, 'bodies': 885, 'noticed': 4021, 'immediately': 3015, 'office': 4076, 'feet': 2342, 'initially': 3092, 'dashboard': 1648, 'intimidating': 3148, 'designs': 1768, 'decorations': 1686, 'metro': 3728, 'diglossia': 1815, 'taiwan': 5703, 'carry': 1086, 'pollen': 4430, 'hymenoptera': 2985, 'attractions': 648, 'test': 5781, 'iv': 3200, 'seen': 5150, 'wifi': 6353, 'applications': 550, 'kind': 3281, 's10_sets': 5025, 'shrines': 5255, 'hence': 2862, 'calculated': 1029, 'samples': 5048, 'pu1x': 4626, 'week': 6306, 'continuously': 1472, 'crash': 1557, 'hangup': 2789, 'entry': 2127, 'electrical': 2042, 'cats': 1110, 'ethnic': 2171, 'minority': 3771, 'touches': 5899, 'termites': 5769, 'closely': 1264, 'related': 4817, 'cockroaches': 1284, 'mantids': 3616, 'visually': 6229, 'impaired': 3017, 'benefit': 814, 'diving': 1887, 'tha': 5786, 'dabbling': 1633, 'nd': 3923, 'picture': 4353, 'gaming': 2593, 'recorder': 4775, 'cannot': 1056, 'photos': 4335, 'pub': 4627, 'floor': 2443, 'tune': 5994, '12th': 27, 'vote': 6242, 'classical': 1241, 'hollow': 2922, 'academies': 287, 'drives': 1950, 'satellite': 5065, 'home': 2925, 'ample': 477, 'daily': 1635, 'heaviest': 2844, 'myself': 3886, 'constantly': 1450, 'changing': 1156, 'polite': 4426, 'described': 1756, 'returning': 4932, 'drink': 1944, 'included': 3039, 'each': 1979, 'extensive': 2258, 'formal': 2488, '28': 191, 'fourth': 2515, 'someplace': 5373, 'rely': 4833, 'econo': 2004, 'shifts': 5226, 'rocks': 4967, 'violently': 6209, 'leaving': 3393, 'means': 3681, 'shaking': 5206, 'bring': 957, 'appetizer': 546, 'lounge': 3534, 'palm': 4209, 'stiff': 5510, 'court': 1540, 'rules': 5013, 'webster': 6304, 'sleep': 5324, 'nights': 3980, 'inadequate': 3035, 'know': 3300, '1024': 16, '600': 235, 'fungi': 2574, 'descendant': 1752, 'norse': 4007, 'connection': 1427, 'timber': 5851, 'cimbals': 1219, 'disfluent': 1854, 'kinematics': 3286, 'install': 3109, 'firefox': 2412, 'push': 4650, 'becomes': 783, 'helpful': 2857, 'koreans': 3308, 'siblings': 5261, 'caves': 1116, 'dragon': 1933, 'bone': 891, 'hill': 2892, 'village': 6202, 'zhoukoudian': 6467, 'fangshan': 2303, 'district': 1880, 'excellently': 2211, 'appreciate': 555, 'skin': 5320, 'retire': 4926, 'ice': 2992, 'cream': 1565, 'prompt': 4592, '1gb': 156, 'photoshop': 4336, 'anyhow': 532, '1all': 154, 'fonts': 2466, 'exactly': 2205, 'willie': 6359, 'gillis': 2658, 'series': 5182, 'rosie': 4996, 'riveter': 4959, 'reproduced': 4871, 'saying': 5080, '1951': 132, 'freedoms': 2536, 'reply': 4859, 'huh': 2964, 'min': 3759, 'stroll': 5557, 'tesco': 5779, 'express': 2251, 'supermarket': 5635, 'opens': 4107, 'footprint': 2472, 'closed': 1263, 'limits': 3454, 'tilt': 5849, 'swans': 5670, 'swim': 5676, 'tank': 5718, 'adult': 367, 'fliers': 2437, 'pavia': 4256, 'predecessors': 4499, 'valves': 6141, 'sexes': 5201, 'horns': 2938, 'techniques': 5744, 'roll': 4974, 'inflected': 3079, '79': 250, 'bucharest': 972, 'opened': 4104, '1979': 141, 'vulnerable': 6249, 'prey': 4532, 'depletion': 1744, 'diary': 1796, 'standing': 5467, 'behind': 801, 'painting': 4197, 'washington': 6278, 'crossing': 1590, 'delaware': 1711, 'mount': 3838, 'wooden': 6394, 'designer': 1767, 'layout': 3372, 'abigail': 268, 'celebrator': 1124, 'beauty': 779, 'feminine': 2352, 'sensuality': 5173, 'final': 2387, 'tradition': 5922, 'directly': 1831, 'rubens': 5008, 'watteau': 6289, 'lack': 3326, 'queens': 4670, 'poulation': 4469, 'female': 2350, 'dozen': 1931, 'thousand': 5829, 'lifetime': 3440, 'averaging': 689, '27': 188, 'catch': 1100, 'fish': 2416, 'chicago': 1188, 'tour': 5902, 'incorporates': 3044, 'tastings': 5727, 'bakery': 722, 'deli': 1715, 'pizza': 4372, 'chocolate': 1198, 'dramatic': 1938, 'decrease': 1687, 'multisyllabic': 3868, 'varieties': 6147, 'partnership': 4242, 'sw': 5667, '0w': 7, '26': 186, 'hassan': 2815, 'massoudy': 3647, 'master': 3648, 'genre': 2630, 'origins': 4143, 'traced': 5915, 'piccadilly': 4347, 'circle': 1220, 'therefore': 5807, 'base': 749, 'sight': 5267, 'seeing': 5145, 'visit': 6222, 'atm': 634, 'machines': 3569, 'bonus': 895, 'executive': 2219, 'complimentary': 1366, 'drains': 1936, 'perfectly': 4288, 'adequate': 348, 'fabulous': 2277, 'ipods': 3171, 'feauture': 2333, 'puting': 4655, 'synch': 5687, 'agglutinative': 396, 'wrong': 6428, 'guy': 2765, 'feel': 2338, 'ix': 3201, 'amati': 459, 'construct': 1455, '24': 181, 'physicist': 4340, 'serve': 5185, 'purpose': 4647, 'oxygen': 4182, 'wisma': 6380, 'submit': 5588, 'poem': 4415, 'phi': 4324, 'psi': 4625, 'fraternity': 2532, 'vitula': 6230, 'meaning': 3678, 'violincello': 6211, 'interactivity': 3130, 'vision': 6221, 'placed': 4374, 'sixth': 5313, 'voting': 6243, 'viability': 6181, 'threatened': 5830, 'weakness': 6296, 'violinists': 6213, 'fiddlers': 2367, 'establish': 2158, 'fort': 2497, 'golden': 2692, 'gate': 2603, 'mission': 3782, 'francis': 2525, 'assisi': 621, 'wait': 6254, 'twist': 6018, 'yourself': 6457, 'contortion': 1473, 'bed': 786, 'invest': 3163, 'lap': 3343, 'desks': 1771, 'beanbag': 772, 'shift': 5224, 'whatever': 6325, 'ridiculous': 4951, 'position': 4457, 'ages': 395, '1887': 100, 'cougars': 1522, 'jaguars': 3207, 'revolutionary': 4939, 'movements': 3847, 'against': 393, 'sardinia': 5061, 'election': 2039, 'numerals': 4035, 'showed': 5250, 'dilute': 1816, 'solutions': 5368, 'honor': 2931, 'explaining': 2244, 'attainment': 639, 'justify': 3251, 'degree': 1708, 'basis': 753, '900': 258, 'alive': 432, 'mispronounces': 3779, 'story': 5532, 'gig': 2653, 'acquired': 320, 'admirers': 362, 'kids': 3275, 'meal': 3676, 'interesting': 3134, '17th': 63, 'wealthiest': 6297, 'gdp': 2609, 'per': 4281, 'capita': 1064, 'asian': 611, 'bordered': 904, 'gaza': 2607, 'strip': 5555, 'zebra': 6462, '02': 2, '1980s': 142, 'birth': 849, 'association': 624, '1910': 112, 'romano': 4983, 'carlo': 1079, 'savant': 5073, 'gain': 2583, 'pregnancy': 4510, '400': 222, 'speak': 5406, 'pencak': 4271, 'silat': 5276, 'indonesian': 3071, 'martial': 3638, 'phones': 4327, 'rides': 4949, 'discover': 1847, 'diamagnetism': 1795, 'lebanese': 3394, 'purposes': 4648, 'stressed': 5548, 'nuclear': 4032, 'dry': 1961, 'sandy': 5054, 'beaches': 769, 'compare': 1353, 'jure': 3247, 'israel': 3186, 'help': 2855, 'essentially': 2157, 'following': 2461, 'purple': 4646, 'instructions': 3117, 'correct': 1513, 'turns': 6009, 'cutter': 1622, 'generally': 2622, 'orientated': 4136, 'assassinated': 618, 'mordern': 3824, 'lodon': 3506, 's10_set': 5024, 'workshop': 6407, 'daughter': 1652, 'consists': 1444, 'barren': 745, 'plain': 4377, 'saudi': 5072, 'fender': 2354, 'resonable': 4899, 'hunted': 2973, 'mistaken': 3783, 'applied': 551, 'contributions': 1479, 'construction': 1457, 'calculators': 1030, 'fluids': 2447, 'clarified': 1235, 'concepts': 1387, 'vacuum': 6135, 'generalizing': 2621, 'evangelista': 2181, 'torricelli': 5893, 'resident': 4893, 'weather': 6300, 'foundout': 2512, 'selected': 5157, 'nuvi': 4038, 'abundant': 284, 'wider': 6349, 'communication': 1343, 'cymbal': 1629, 'bell': 809, 'nose': 4012, 'tail': 5700, '350': 213, '000': 1, 'popularize': 4439, 'electrophorus': 2050, 'beneficial': 813, 'alpha': 446, 'forcefully': 2478, 'prevent': 4529, 'mating': 3658, 'hands': 2786, 'busy': 1006, 'tasks': 5725, 'might': 3745, 'certainly': 1141, 'notable': 4014, 'third': 5818, 'action': 325, 'equal': 2134, 'opposite': 4116, 'reaction': 4736, 'lexical': 3431, 'similarity': 5285, 'estimated': 2165, '82': 255, 'downside': 1928, 'hinge': 2898, 'sitting': 5308, 'chassis': 1171, 'bend': 812, 'annoy': 509, 'craters': 1561, 'leopards': 3417, 'colloquially': 1305, 'soverign': 5398, 'officially': 4079, 'declared': 1681, 'subfamilies': 5584, 'ghanaian': 2649, 'led': 3396, 'investigate': 3164, 'spontaneous': 5433, 'emission': 2068, 'radiation': 4688, 'identified': 2996, 'elbowed': 2035, 'antennae': 518, 'distinctive': 1870, 'node': 3995, 'structure': 5564, 'slender': 5326, 'waist': 6253, 'loschmidt': 3524, 'typical': 6024, 'concern': 1389, 'squat': 5448, 'properly': 4602, 'pollock': 4431, 'considerable': 1437, 'fame': 2298, 'notoriety': 4023, 'favourable': 2326, 'woodrow': 6396, 'thirtieth': 5821, '1024x600': 18, 'barely': 741, 'livable': 3483, 'johann': 3232, 'josef': 3238, 'calculate': 1028, 'constitutional': 1454, 'democracy': 1726, 'fulfills': 2559, 'roles': 4973, 'cellos': 1127, 'glue': 2683, 'red': 4779, 'traditionally': 5924, 'material': 3653, 'chi': 1187, 'fashioned': 2315, 'memo': 3705, '35': 212, 'ac': 286, 'gallon': 2588, 'entertain': 2117, 'storer': 5527, 'lodged': 3505, 'clarke': 1237, 'house': 2950, 'harvesting': 2812, 'wild': 6354, 'compromise': 1376, 'international': 3142, 'airports': 419, 'join': 3235, '1995': 149, 'prob': 4557, 'articles': 602, 'essays': 2155, 'powerful': 4474, 'hind': 2897, 'leaping': 3384, 'balance': 723, 'avoid': 695, 'refresh': 4797, 'luxury': 3559, 'boomer': 900, 'bulge': 987, 'whose': 6344, 'failing': 2289, 'taking': 5708, 'pleasure': 4399, 'visual': 6227, 'impairment': 3018, 'miracle': 3775, 'adding': 341, 'pulling': 4632, 'wool': 6397, 'maximum': 3669, '1905': 109, 'met': 3721, 'pets': 4318, 'sang': 5055, 'nila': 3983, 'utama': 6130, 'landscape': 3337, 'mountainous': 3840, 'marcos': 3624, 'consitution': 1445, 'formerly': 2493, 'generation': 2623, 'clips': 1260, 'penguin': 4273, 'pinguis': 4361, 'fat': 2318, 'stops': 5523, 'steps': 5504, 'requirements': 4881, 'apply': 552, 'membership': 3702, 'cplp': 1548, 'amazed': 460, 'slight': 5328, 'shadowing': 5204, 'bother': 913, 'studies': 5570, 'insufficient': 3120, 'global': 2674, 'protection': 4612, 'culture': 1608, 'perform': 4289, 'careful': 1076, 'experiments': 2240, 'aiming': 412, 'definition': 1705, 'scale': 5082, 'grounds': 2743, 'believed': 807, 'certain': 1140, 'cachet': 1022, 'pronounce': 4595, 'street': 5543, 'herbivour': 2867, 'square': 5447, 'kilometers': 3279, 'soup': 5389, 'delicacy': 1716, 'immature': 3014, 'cared': 1074, 'adults': 369, 'yeah': 6444, 'fresh': 2543, 'achieves': 317, 'sportiness': 5436, 'credited': 1573, 'houlihan': 2946, 'wacker': 6251, 'newspapers': 3965, 'respond': 4907, 'inviting': 3166, 'brooker': 964, 'dinner': 1822, 'spent': 5424, 'ambassador': 464, 'periods': 4295, 'eyestrain': 2274, 'therapy': 5804, 'diplomacy': 1824, 'appears': 545, 'claws': 1246, 'hiccup': 2878, 'odyssey': 4068, 'chancellor': 1151, 'maintained': 3586, 'vice': 6186, 'pioneer': 4362, 'retaining': 4925, 'finding': 2393, 'lover': 3538, 'jacqueline': 3204, 'roque': 4993, 'external': 2262, 'components': 1367, 'surprise': 5653, '5th': 233, 'bb': 765, 'engrave': 2100, 'announcer': 508, 'pleased': 4398, 'founders': 2510, 'rulers': 5012, 'zanzibar': 6460, 'expeditions': 2234, 'lakes': 3332, 'continent': 1467, 'rift': 4952, 'serious': 5183, 'disappointment': 1842, 'particularly': 4239, 'previous': 4530, 'soon': 5383, 'connect': 1424, 'vga': 6178, 'projector': 4588, 'press': 4524, 'projection': 4586, 'automatically': 674, 'adjusts': 357, 'scouts': 5109, 'involved': 3167, 'funeral': 2573, 'procession': 4562, 'shake': 5205, 'snap': 5350, 'expose': 2248, 'son': 5378, 'jean': 3221, 'produced': 4568, 'generations': 2624, 'scientists': 5100, 'irish': 3174, 'lir': 3470, 'stream': 5541, 'across': 323, 'hole': 2917, 'secede': 5131, '2001': 160, 'reached': 4734, 'crusades': 1598, 'reads': 4743, 'jayawikarta': 3219, 'soldiers': 5364, 'sad': 5029, 'civic': 1229, 'dealer': 1666, 'javanese': 3216, 'politically': 4429, 'dominant': 1909, 'biology': 845, 'representatives': 4867, 'halfway': 2775, 'freezing': 2539, 'business': 1002, 'kwame': 3321, 'nkrumah': 3990, 'standout': 5468, 'connects': 1429, 'shorter': 5243, 'aiport': 413, 'rest': 4912, 'climate': 1258, 'temperate': 5756, 'emblem': 2063, 'reviewers': 4936, 'entrance': 2124, 'bizarre': 856, 'tv': 6014, 'tuner': 5996, 'advantage': 371, 'january': 3211, '1882': 98, 'hungary': 2971, '1816': 72, 'copied': 1503, 'tills': 5848, 'pushes': 4652, 'eighth': 2032, 'richest': 4944, 'delis': 1719, 'eating': 1999, 'supermarkets': 5636, 'snacks': 5349, 'multiple': 3867, 'option': 4118, 'palms': 4211, 'overpriced': 4175, 'holidays': 2921, 'acts': 331, 'école': 6480, 'ponts': 4434, 'et': 2168, 'chaussées': 1172, 'star': 5471, 'services': 5189, 'heck': 2847, 'personality': 4304, 'disappointed': 1840, 'proprietary': 4608, 'pacific': 4183, 'typhoon': 6023, 'november': 4029, 'xv': 6435, 'olympiad': 4091, 'paragraphs': 4226, 'visualised': 6228, 'adversaries': 374, 'region': 4806, 'km': 3295, 'equator': 2137, 'mya': 3885, 'weber': 6303, 'grill': 2738, 'countershaded': 1532, 'timely': 5854, 'ergonomics': 2145, 'sort': 5385, 'felidar': 2345, '1974': 139, 'birthplace': 850, 'uhuru': 6029, 'occasional': 4052, 'gone': 2693, 'microsoft': 3739, 'attributes': 653, 'errant': 2148, 'isolate': 3184, 'industries': 3076, 'accustomed': 311, 'compromises': 1377, 'matti': 3663, 'vanhanen': 6143, 'themselves': 5798, 'warm': 6270, 'blubber': 877, 'savings': 5075, 'loans': 3492, 'bank': 734, 'cotton': 1520, 'weaving': 6301, 'mill': 3754, 'dine': 1820, 'employees': 2077, 'impressive': 3029, 'characterized': 1161, 'multifaceted': 3866, 'pairs': 4199, 'transparent': 5944, 'elongated': 2058, 'principia': 4548, 'optometrist': 4120, 'aide': 411, 'abet': 267, 'avoiding': 696, 'sail': 5037, 'hits': 2911, '1862': 89, 'sony': 5382, 'walkman': 6261, 'anderw': 488, 'hamilton': 2777, 'acoustic': 319, 'guitar': 2759, 'kings': 3289, 'cross': 1588, 'secular': 5141, 'amazing': 461, 'hot': 2943, 'mythical': 3889, 'depicted': 1743, 'holding': 2915, 'recorded': 4774, 'propose': 4606, 'delete': 1714, 'coliseum': 1296, 'difficulties': 1812, 'crossword': 1591, 'puzzle': 4658, 'satisfies': 5069, 'ibm': 2991, 'originate': 4141, 'gives': 2664, 'took': 5885, 'importance': 3023, 'graduate': 2710, '1890': 101, 'trades': 5920, 'nse': 4031, 'regions': 4809, 'provincial': 4622, 'letters': 3427, 'linguistically': 3462, 'shot': 5245, '7500': 247, 'mi': 3731, 'hoping': 2934, 'rack': 4686, 'korea': 3306, 'singaporeans': 5294, 'squid': 5449, 'macular': 3572, 'degeneration': 1707, 'blurry': 880, 'show': 5249, 'soviet': 5399, 'military': 3753, 'forces': 2479, 'estonia': 2167, 'docking': 1894, 'program': 4582, 'quick': 4673, 'influenced': 3084, 'downloaded': 1923, 'cds': 1118, 'molt': 3800, 'exports': 2247, 'refining': 4792, 'imported': 3025, 'goods': 2697, 'manufacturing': 3619, 'delivered': 1720, 'hardly': 2800, 'strains': 5539, 'adequately': 349, 'fullscreen': 2562, 'busiest': 1001, 'appearance': 543, 'enhanced': 2101, 'visibility': 6219, 'situations': 5311, 'physical': 4338, 'whenever': 6328, 'waterbirds': 6286, 'appointed': 553, 'harlan': 2802, 'fiske': 2417, 'stone': 5520, 'supreme': 5645, 'personally': 4306, 'future': 2581, 'ad': 335, 'agrees': 406, 'accepted': 296, 'franscico': 2530, 'destination': 1774, 'harder': 2799, 'salads': 5041, 'sandwiches': 5053, 'dream': 1943, 'coin': 1288, 'least': 3388, 'typed': 6021, 'correctly': 1514, 'azw': 707, 'conversion': 1492, 'pdf': 4261, 'teeny': 5747, 'unreadable': 6081, 'solves': 5369, 'majority': 3591, 'hispanic': 2902, 'whites': 6338, 'comprise': 1375, '1970': 135, 'bhola': 829, 'cyclone': 1625, 'kill': 3276, 'community': 1346, 'reserve': 4887, 'tendency': 5761, 'pennsylvania': 4277, 'egg': 2027, 'hatch': 2818, 'artifacts': 603, 'crissy': 1580, 'airfield': 415, 'gave': 2605, 'lane': 3338, 'writers': 6424, 'aspirated': 617, 'linguistic': 3461, 'niger': 3978, 'congo': 1417, 'remarks': 4840, 'discovered': 1848, 'invention': 3160, 'voltaic': 6239, 'pile': 4359, 'brain': 931, 'industry': 3077, 'crazy': 1564, 'candy': 1054, 'heisman': 2850, 'trophy': 5977, 'winner': 6372, 'tackle': 5696, 'experiment': 2238, 'individual': 3068, 'cells': 1128, 'dimmed': 1818, 'stated': 5482, 'lovely': 3537, 'attracting': 646, 'finish': 2402, 'improvements': 3032, 'den': 1733, 'cloth': 1269, 'production': 4572, 'raise': 4704, 'ethical': 2170, 'reduce': 4781, 'bulbs': 986, 'illiterate': 3004, 'fifty': 2373, 'vocabulary': 6232, 'origin': 4138, 'manages': 3613, 'candlestick': 1053, 'macau': 3565, 'productive': 4573, 'composers': 1369, 'toivo': 5874, 'kärki': 3323, 'singer': 5295, 'olavi': 4087, 'virta': 6217, '1915': 115, '1972': 137, 'isabelline': 3179, 'quicker': 4674, 'rock': 4965, 'manufacturer': 3618, 'buy': 1012, 'mutually': 3883, 'unintelligible': 6063, 'caunte': 1112, 'throne': 5836, '101': 15, 'lcd': 3375, 'october': 4063, '2009': 168, 'widespread': 6350, 'palladius': 4207, 'populations': 4444, 'fragmented': 2519, 'ie8': 2998, '95': 260, 'graphics': 2719, 'uncannily': 6039, 'accurate': 309, 'estimates': 2166, 'shared': 5213, 'coastal': 1280, 'eastern': 1994, 'australia': 662, 'adelaide': 345, 'cape': 1063, 'thanks': 5790, 'pests': 4313, 'phrase': 4337, 'forget': 2486, 'metaphorical': 3726, 'admitted': 364, 'oem': 4070, 'turanzas': 5999, 'wear': 6299, '14k': 33, 'lucky': 3546, 'bridgestones': 950, 'gimme': 2659, 'warranty': 6273, 'adjustment': 356, 'tires': 5866, '290': 194, 'jews': 3227, 'exception': 2213, 'vowel': 6245, 'harmony': 2804, 'compound': 1370, 'tobaggan': 5871, 'fills': 2383, 'minibar': 3764, 'sons': 5381, 'weigh': 6309, 'transportation': 5948, 'highlight': 2885, 'thoroughly': 5825, 'prominent': 4589, 'financially': 2390, 'blind': 866, 'spots': 5443, 'proper': 4601, 'issues': 3188, 'guitars': 2760, 'coil': 1287, 'pickups': 4351, 'pedometor': 4268, 'slowed': 5335, 'ukraine': 6031, 'emperor': 2072, 'aptenodytes': 565, 'forsteri': 2496, 'instance': 3111, 'eel': 2018, 'blood': 872, 'toxic': 5913, 'andorra': 489, 'honey': 2930, 'continue': 1470, 'foraging': 2476, 'noticeable': 4020, 'valuable': 6137, 'beep': 791, 'flee': 2435, 'venice': 6164, 'federal': 2335, 'hyatt': 2981, 'wine': 6369, 'beer': 792, 'until': 6086, '2am': 196, 'dominick': 1910, 'til': 5847, '1am': 155, '60gb': 237, 'campus': 1045, 'fransisco': 2531, '1855': 86, 'delay': 1712, 'worse': 6413, 'segment': 5151, 'document': 1896, 'equestrianism': 2138, 'tsars': 5988, 'aristocracy': 586, 'writer': 6423, 'thinker': 5815, 'refraction': 4796, 'iphone': 3169, 'lombardy': 3510, 'raves': 4727, 'deserved': 1763, 'expression': 2253, 'conceptual': 1388, 'framework': 2521, 'testing': 5782, 'systems': 5694, 'urban': 6108, 'saint': 5040, 'petersburg': 4316, 'sidebar': 5263, 'liked': 3448, 'arctic': 578, 'favorte': 2325, 'taxes': 5732, 'blogs': 870, 'paying': 4259, 'surrounding': 5659, 'province': 4620, 'optical': 4117, 'properties': 4603, 'gold': 2691, 'colloids': 1304, 'differed': 1806, 'corresponding': 1516, 'bulk': 988, 'transliterated': 5939, 'dawlat': 1656, 'arab': 567, 'emirate': 2067, 'southwest': 5396, 'fans': 2304, 'stepping': 5503, 'zune': 6478, 'hd': 2825, 'religions': 4831, 'trips': 5974, 'mercury': 3718, 'expectancy': 2231, 'board': 882, 'musicians': 3878, 'existant': 2222, 'universally': 6071, 'laboratories': 3325, '1903': 108, 'discovering': 1851, 'albedrt': 423, 'concerts': 1393, 'disapointment': 1837, 'jerky': 3225, 'terrible': 5773, 'hat': 2817, 'evolve': 2200, 'clash': 1238, 'achieved': 316, 'leading': 3379, 'abraham': 275, '1973': 138, 'discussions': 1852, 'oc': 4050, 'transpo': 5945, 'rail': 4694, 'sto': 5517, 'transitway': 5935, 'networks': 3956, 'linking': 3465, 'gatineau': 2604, 'paintings': 4198, 'sold': 5363, 'us0': 6115, 'benzene': 819, 'peru': 4310, 'augmented': 656, 'valve': 6140, 'zinc': 6469, 'rod': 4969, 'negative': 3939, 'electrode': 2045, 'copper': 1505, 'democrat': 1727, 'buchanan': 971, 'pc': 4260, 'laptops': 3345, 'macbook': 3566, 'glouster': 2682, 'sport': 5435, 'scrolled': 5117, 'chopped': 1205, 'height': 2849, 'instead': 3112, 'usual': 6128, '786': 249, 'mountain': 3839, 'lion': 3468, 'freshly': 2544, 'renovated': 4852, 'anonymous': 513, 'bangladesh': 733, 'illuminence': 3007, 'equally': 2136, 'distributed': 1878, 'asked': 614, 'responsiveness': 4911, 'cultural': 1606, 'distribution': 1879, 'indentured': 3055, '2nd': 198, 'remarkable': 4838, '7th': 251, 'symphony': 5686, 'premiered': 4512, '360': 214, 'clearer': 1252, 'jack': 3202, 'vette': 6177, 'blessing': 865, 'agrarians': 402, 'silverites': 5282, '1896': 104, 'neat': 3929, 'reach': 4732, 'movies': 3850, 'sentence': 5175, 'comment': 1332, 'ancestry': 484, 'dog': 1900, 'taught': 5728, 'raised': 4705, 'congregationalist': 1418, 'five': 2422, 'leptocephali': 3418, 'vi': 6179, 'scotland': 5105, 'unite': 6068, 'kf': 3272, '2min': 197, 'glousceter': 2681, 'stn': 5516, 'weekend': 6307, 'piccadely': 4346, 'distict': 1868, 'restrictions': 4917, 'maintainence': 3587, 'insulate': 3121, 'round': 5001, 'cycloid': 1624, '1658': 40, 'montevideo': 3813, 'westernmost': 6318, 'zone': 6471, 'northwesten': 4010, 'loving': 3541, 'whole': 6341, 'concept': 1385, 'neighborhood': 3943, 'euopean': 2174, 'atmosphere': 635, 'holt': 2923, 'linnaeus': 3467, '18th': 107, 'systema': 5693, 'naturae': 3909, 'consist': 1441, 'membrane': 3703, 'drumhead': 1955, 'stretched': 5549, 'shell': 5219, 'struck': 5563, 'player': 4390, 'implement': 3022, 'drumstick': 1959, 'fired': 2411, 'box': 925, 'muslim': 3879, '90': 257, 'wouldn': 6418, 'game': 2591, 'coverflow': 1546, 'displays': 1861, 'subspecies': 5593, 'mughals': 3862, 'arrive': 596, 'dhaka': 1791, 'loanwords': 3493, 'sino': 5300, 'deeper': 1690, 'predominant': 4502, 'negatives': 3940, 'mentioned': 3712, 'idea': 2993, 'gettysburg': 2647, 'aren': 582, 'fontwise': 2467, 'boy': 929, 'bsa': 970, 'interstate': 3146, 'mallard': 3604, 'possessed': 4461, 'blois': 871, 'difference': 1807, 'banks': 736, 'buriganga': 996, 'finally': 2388, 'worries': 6412, 'dissipated': 1864, 'foremost': 2482, 'crib': 1575, 'pen': 4270, 'refrigerator': 4799, 'storing': 5530, 'baby': 709, 'additional': 343, 'worldwide': 6410, 'shiny': 5229, 'sunny': 5629, 'usage': 6118, 'anecdotal': 491, 'connected': 1425, 'akans': 420, 'empire': 2074, '14': 31, '1736': 48, '1806': 67, 'townships': 5912, 'bugis': 979, 'suomen': 5630, 'tasavalta': 5722, 'republiken': 4877, 'protocol': 4614, 'defined': 1702, 'seaport': 5122, 'garbage': 2596, 'continual': 1469, 'precisely': 4495, 'counties': 1533, 'survive': 5662, 'kee': 3259, 'van': 6142, 'gogh': 2688, 'inland': 3094, 'moisture': 3794, 'suitable': 5615, 'woodlands': 6395, 'agnes': 400, 'muirhead': 3864, 'conclude': 1396, 'question': 4671, 'emits': 2070, 'rays': 4729, 'pass': 4247, 'opaque': 4102, 'reduces': 4783, 'silver': 5281, 'salts': 5044, 'saw': 5076, 'god': 2686, 'creator': 1570, 'booking': 898, 'inexpensive': 3078, 'players': 4391, 'mouthpiece': 3844, 'piccolo': 4348, 'increase': 3045, 'pics': 4352, 'despite': 1773, 'canadian': 1050, 'battle': 762, 'vimy': 6203, 'ridge': 4950, '1917': 116, 'mammals': 3607, 'popularly': 4441, 'pet': 4314, 'satisfactory': 5067, 'daytona': 1660, 'beach': 768, 'fl': 2427, 'dazzled': 1661, 'headlights': 2830, 'startled': 5478, 'leap': 3383, 'cars': 1087, 'gadget': 2582, 'sleek': 5323, 'disappear': 1838, 'suggested': 5611, 'description': 1759, 'highly': 2886, 'transportable': 5947, 'placement': 4375, '750': 246, 'happens': 2794, 'wing': 6370, 'bull': 989, 'fennec': 2355, 'endangered': 2086, 'pricing': 4539, 'newest': 3961, 'macbooks': 3567, 'currently': 1613, 'cd': 1117, 'rom': 4975, 'young': 6454, 'conformity': 1412, 'trail': 5926, 'farmers': 2311, 'almanac': 440, 'handsome': 2787, 'transparency': 5943, 'schemes': 5088, 'usability': 6116, 'continues': 1471, 'trend': 5968, 'sexy': 5202, 'enhancements': 2102, 'bathrooms': 757, 'updated': 6093, 'recentlythe': 4761, 'traded': 5918, '2007': 166, 'hyundai': 2986, 'azera': 706, 'depreciated': 1746, 'sturdy': 5576, 'populous': 4445, 'resembles': 4886, 'americas': 471, '1800s': 66, '1820': 75, 'escalator': 2151, 'basement': 751, 'walkway': 6262, 'concourse': 1399, 'leads': 3380, 'mini': 3762, 'mall': 3603, 'barber': 740, 'currency': 1611, 'hanja': 2790, 'discontinued': 1846, 'bourbon': 918, 'rise': 4956, 'albeit': 424, 'confuse': 1414, 'opponents': 4114, '1884': 99, 'counter': 1529, 'innocent': 3097, 'trunk': 5984, 'metallic': 3724, 'paint': 4194, 'reliability': 4827, 'toyota': 5914, 'truck': 5978, 'gloss': 2675, 'austronesian': 667, 'spaces': 5401, 'income': 3042, 'woman': 6388, 'scent': 5087, 'glands': 2668, 'media': 3691, 'contribute': 1476, 'champion': 1148, 'william': 6358, 'proportion': 4605, 'programming': 4583, 'distraction': 1877, 'wondering': 6393, 'command': 1327, 'orang': 4123, 'laut': 3366, 'reserved': 4888, 'consumed': 1458, 'smudgy': 5348, 'prints': 4552, 'plugs': 4408, 'sociolinguistic': 5357, 'provides': 4619, 'phenomenon': 4323, 'perspective': 4308, 'develop': 1783, 'markets': 3631, 'strengthen': 5546, 'links': 3466, 'energy': 2093, 'economies': 2006, 'financial': 2389, 'ed': 2010, 'debevics': 1671, 'sassy': 5063, 'diner': 1821, 'check': 1174, 'strategic': 5540, 'spice': 5428, 'route': 5002, 'tributary': 5969, 'majapahit': 3589, 'kingdom': 3288, 'java': 3215, 'goryeo': 2699, 'seasons': 5127, 'kuala': 3315, 'lumpur': 3551, 'tourists': 5906, 'sub': 5582, 'saharan': 5035, 'indigenous': 3067, 'clues': 1270, 'gravity': 2723, 'crowne': 1595, 'plaza': 4395, 'mrt': 3859, 'miami': 3732, 'stamina': 5461, 'ectothermic': 2009, 'arms': 590, 'extending': 2257, 'chest': 1185, 'switzerland': 5682, 'favorite': 2323, 'auto': 671, 'dimming': 1819, 'monitors': 3807, 'membranes': 3704, 'unbelievable': 6038, 'usb': 6119, '18': 64, 'schooling': 5094, 'breakfasts': 940, 'viewing': 6199, 'snow': 5353, 'meat': 3684, 'michelangelo': 3736, 'output': 4166, 'prodigious': 4565, 'whitespace': 6339, 'configurable': 1407, 'classes': 1240, 'plymouth': 4412, 'windsor': 6368, 'vermont': 6170, 'swissotel': 5678, 'recognize': 4769, 'sex': 5200, 'unions': 6065, 'pedals': 4266, 'upper': 6102, 'plastron': 4384, 'flying': 2453, 'spaghetti': 5403, 'monster': 3812, '21': 173, '698': 242, '181': 69, 'claims': 1234, 'trolls': 5975, 'poke': 4418, 'enemies': 2092, 'retained': 4924, 'contrast': 1475, 'natively': 3908, '1024x': 17, '768': 248, 'smashed': 5341, 'altered': 451, 'maps': 3622, 'referring': 4788, 'potential': 4468, 'understandable': 6048, 'vauge': 6155, 'helped': 2856, 'fund': 2571, 'safari': 5031, 'tourism': 5904, 'attract': 644, '2005': 164, 'convenience': 1486, 'gettin': 2645, 'photgraph': 4330, 'steering': 5499, 'tight': 5846, 'precise': 4494, 'milion': 3752, 'patent': 4251, 'fastest': 2317, 'luxurious': 3558, 'technologically': 5745, 'advanced': 370, 'competitive': 1357, 'mid': 3741, 'strikes': 5551, 'creating': 1569, 'pricier': 4538, 'delayed': 1713, 'ordering': 4129, 'horror': 2940, 'stories': 5529, 'batteries': 760, 'faulty': 2321, 'chargers': 1164, 'crashes': 1559, 'irving': 3176, '43': 224, 'acre': 322, 'bay': 764, 'dispute': 1862, 'discoveries': 1850, '1764': 55, 'pallava': 4208, '1849': 82, '13': 28, 'taxi': 5733, 'covent': 1543, 'penisula': 4276, 'organizations': 4133, 'leichtenstein': 3409, 'prosecuting': 4609, 'laundering': 3365, 'corolla': 1512, 'suborder': 5589, 'stylish': 5580, 'beautifully': 778, 'counterbalance': 1530, 'absence': 277, 'wedding': 6305, 'trinity': 5972, 'carlos': 1080, 'maldonado': 3599, 'municipalities': 3869, 'recognised': 4766, 'flemish': 2436, 'facilities': 2281, 'greyish': 2737, 'allophones': 435, 'conclusion': 1398, 'ton': 5877, 'bush': 1000, 'medieval': 3692, '13th': 30, 'yanbian': 6442, 'autonomous': 676, 'prefecture': 4504, 'nissan': 3987, 'rough': 4999, 'bolted': 888, 'glued': 2684, 'cromwell': 1587, 'posh': 4456, 'imparting': 3019, 'vibraphone': 6182, 'gellu': 2612, 'naum': 3915, 'surrealist': 5657, 'movement': 3846, 'universities': 6073, 'shades': 5203, 'digital': 1814, 'habitats': 2768, 'outlawed': 4164, 'earlier': 1982, 'musum': 3881, 'stating': 5484, 'buyer': 1013, 'remorse': 4842, 'ball': 726, 'helpfulthis': 2858, 'moments': 3803, 'lacking': 3327, 'detailed': 1778, 'dell': 1722, 'd600': 1631, 'fifteen': 2371, 'reader': 4740, 'hurting': 2976, 'panthera': 4217, 'pardus': 4228, 'felidae': 2344, 'genus': 2632, 'jaguar': 3206, 'resistance': 4897, 'masonries': 3642, 'historians': 2905, 'hp': 2958, 'mat': 3650, 'surface': 5647, 'impossible': 3026, 'demands': 1725, '1024x768': 19, 'xmas': 6433, 'proximity': 4624, 'pertama': 4309, 'complex': 1364, 'camea': 1043, 'flag': 2428, 'indianized': 3061, 'tarumanagara': 5721, '270': 189, 'delighted': 1718, 'waiters': 6255, 'seafood': 5121, 'crammed': 1552, 'suriname': 5651, 'overseas': 4176, 'guiana': 2756, '80': 252, 'guess': 2755, 'treatment': 5961, 'mothers': 3834, 'chick': 1189, 'affiliation': 384, 'improving': 3033, 'popularizing': 4440, 'blows': 876, 'telecommunication': 5749, 'centered': 1134, 'doha': 1901, 'chose': 1207, 'ultimate': 6032, 'multi': 3865, 'bitlocker': 854, 'treaties': 5960, 'signed': 5273, '1947': 128, '1948': 129, 'felis': 2346, 'adjectives': 351, 'kills': 3278, 'luster': 3556, 'acadia': 289, 'vcm': 6156, 'constant': 1449, 'perceptible': 4284, 'annoyance': 510, 'nearly': 3928, 'exclusively': 2218, 'hemisphere': 2861, 'midnight': 3744, 'storm': 5531, 'serbian': 5181, 'smiljan': 5344, 'gospić': 2700, 'lika': 3446, 'croatian': 1584, 'krajina': 3311, 'frontier': 2556, 'austrian': 665, 'croatia': 1583, 'istànbul': 3190, 'ìstanbul': 6482, 'council': 1527, 'instruction': 3116, 'paperback': 4220, 'hasn': 2814, 'prefered': 4506, 'throttle': 5837, 'hesitation': 2873, 'raetia': 4692, 'interest': 3132, 'sleepier': 5325, 'win7': 6363, 'worthwhile': 6416, 'variations': 6146, 'restricted': 4916, 'regarded': 4802, 'mad': 3573, 'scientist': 5099, 'circumstances': 1223, 'complicated': 1365, 'derive': 1748, 'tension': 5765, 'rods': 4971, 'article': 601, 'contemporary': 1463, 'botticelli': 914, 'domenico': 1907, 'ghirlandaio': 2650, 'perugino': 4311, 'semitic': 5164, 'citizens': 1227, 'endopterygotes': 2090, 'metamorphosis': 3725, 'radically': 4689, 'amazon': 463, 'notion': 4022, 'junior': 3246, 'belgium': 804, 'wagadugu': 6252, 'calligraphers': 1036, 'esteem': 2163, 'islam': 3180, '850': 256, '70': 243, 'tin': 5858, 'pricy': 4540, '80gb': 253, 'enticing': 2120, 'addicts': 340, 'capacity': 1062, 'locally': 3497, 'garfunkels': 2600, 'vast': 6152, 'wilderness': 6355, 'springer': 5446, 'lie': 3434, 'confluence': 1411, 'climatic': 1259, 'annotated': 505, '1913': 113, 'theo': 5800, 'widow': 6351, 'johanna': 3233, 'bonger': 892, 'murray': 3872, 'survey': 5660, 'historiometry': 2908, 'mixed': 3785, 'hwy': 2980, 'complaints': 1360, 'rain': 4699, 'dew': 1790, 'pours': 4471, 'guards': 2753, 'fixed': 2425, 'inhabit': 3089, 'leisurely': 3410, 'montpellier': 3817, 'bag': 720, 'wrapped': 6421, 'plastic': 4383, 'boxed': 926, 'packing': 4185, 'cast': 1093, 'doubt': 1919, 'himself': 2896, 'concluding': 1397, 'leibniz': 3408, '55': 230, 'hr': 2959, 'houston': 2954, 'austin': 661, 'slow': 5334, 'boring': 907, 'drv': 1960, 'avalanche': 683, 'ends': 2091, 'interterritorial': 3147, 'mombasa': 3801, 'locationa': 3500, 'conveniently': 1488, 'romanian': 4980, 'extent': 2260, 'incredibly': 3050, 'walkable': 6259, 'accentuate': 293, 'awarded': 699, '1919': 118, 'peace': 4262, 'mary': 3640, 'fox': 2516, 'hunting': 2974, 'powerfull': 4475, 'workmanship': 6405, 'seller': 5161, 'caught': 1111, 'essence': 2156, 'plectrum': 4400, 'electrostatic': 2051, 'attraction': 647, 'repulsion': 4878, 'predominate': 4503, 'bc': 766, 'everytime': 2195, 'expanded': 2227, 's10_settlement': 5026, 'happier': 2795, 'fellow': 2348, 'edinburgh': 2013, 'zoomed': 6474, 'minor': 3770, 'errors': 2150, 'fluorescent': 2448, 'photographic': 4333, 'plates': 4386, 'fairy': 2292, 'stands': 5470, 'cm': 1275, 'weighs': 6310, 'kg': 3273, 'lb': 3374, 'rattles': 4725, 'intrusive': 3154, 'strike': 5550, 'chord': 1206, 'represent': 4864, 'alton': 454, 'sangamon': 5056, 'railroad': 4695, 'sensitive': 5170, 'doubly': 1918, 'landlocked': 3335, '1701': 42, '25': 184, '1744': 50, 'astronomer': 628, 'geat': 2610, 'somewhat': 5377, 'confortable': 1413, 'molarity': 3795, 'suicide': 5613, 'bombing': 890, 'teacher': 5737, 'strongly': 5561, 'mythology': 3890, 'commemorated': 1330, 'statuary': 5488, 'george': 2634, 'princes': 4544, 'legge': 3404, 'sulle': 5618, 'fonti': 2465, 'del': 1710, 'diritto': 1832, 'donated': 1912, 'krasner': 3312, 'personal': 4303, 'pronouns': 4597, 'requiring': 4882, 'emphasis': 2073, 'migratory': 3747, 'chromatic': 1213, 'statue': 5489, 'hospital': 2941, 'whad': 6320, 'observations': 4047, 'persistent': 4301, 'degrees': 1709, 'thermometer': 5808, 'regret': 4811, 'anatidae': 480, 'oddysey': 4067, 'fertile': 2358, 'avid': 692, 'increasing': 3047, 'challenge': 1145, 'varying': 6151, 'format': 2490, 'rotate': 4997, 'inline': 3095, 'stays': 5497, 'kid': 3274, 'stroller': 5558, 'medal': 3690, 'stadiums': 5457, 'fc': 2327, 'zenit': 6464, '1950': 131, '1993': 147, 'kven': 3319, 'durability': 1969, 'exciting': 2216, 'smell': 5343, 'repaired': 4854, 'merged': 3719, 'sole': 5365, 'paw': 4257, 'segments': 5152, 'ppl': 4479, 'presence': 4515, 'chief': 1190, 'bridges': 949, 'highways': 2889, '1892': 102, 'sizing': 5318, 'navigation': 3919, 'meant': 3682, 'microwave': 3740, 'stau': 5492, 'controlled': 1483, 'sundiata': 5627, '1240': 24, 'absorbed': 281, 'mali': 3602, 'volleyball': 6236, 'venues': 6165, 'parents': 4229, 'quatre': 4667, 'vingts': 6205, 'reservoirs': 4889, 'brilliant': 956, 'cul': 1605, 'sac': 5027, 'audible': 654, 'zippier': 6470, 'advice': 377, 'celcius': 1121, 'aurora': 660, 'borealis': 906, 'watched': 6283, 'lives': 3486, 'sect': 5137, 'categories': 1103, 'charter': 1170, 'giraffes': 2661, 'doctrine': 1895, 'judo': 3243, 'portable': 4450, 'automate': 673, 'subscriptions': 5591, 'facilitate': 2280, 'downloads': 1925, 'intuitive': 3155, 'irene': 3173, 'connor': 1430, 'genera': 2618, 'syllables': 5684, 'unstressed': 6085, 'brazil': 937, '39': 218, 'purnawarman': 4645, 'sunda': 5625, 'pura': 4639, 'painters': 4196, 'contributor': 1480, 'foundations': 2507, 'demolished': 1731, 'syntax': 5690, '1005': 12, 'angoulme': 496, 'percussion': 4285, 'tire': 5864, '31': 205, 'francophone': 2528, 'offspring': 4080, 'norway': 4011, 'unexceptional': 6053, 'rainfall': 4700, 'qur': 4684, 'provided': 4617, 'larvae': 3352, 'memorial': 3707, 'chip': 1196, 'affordable': 385, 'commuting': 1348, 'boxy': 928, 'fifth': 2372, 'reports': 4863, 'contemporaries': 1462, 'unhappy': 6056, 'newsprint': 3966, 'pricey': 4537, 'anyone': 533, 'faded': 2287, 'reccomend': 4756, 'flaw': 2434, 'signs': 5275, 'flags': 2429, 'enter': 2115, 'miserable': 3776, 'unwelcoming': 6089, 'confusing': 1416, 'visitors': 6225, 'taller': 5713, 'vidoe': 6193, 'ray': 4728, 'monochrome': 3808, 'enjoyable': 2105, 'sell': 5160, '1817': 73, 'confirm': 1409, 'sponsored': 5432, 'sardinian': 5062, 'plotters': 4407, 'organising': 4132, 'stopped': 5522, 'moment': 3802, 'concession': 1394, 'statute': 5491, 'turner': 6007, 'shy': 5257, '5g': 232, 'remains': 4837, 'entirely': 2122, 'items': 3195, 'fitness': 2419, '30k': 204, 'capitol': 1066, 'porcelain': 4447, 'drawing': 1941, 'talents': 5710, 'tramp': 5930, 'abroad': 276, 'physician': 4339, 'joseph': 3239, 'henry': 2864, 'civilians': 1231, 'consideration': 1438, 'upgradeable': 6096, 'via': 6180, 'zoos': 6476, 'reasons': 4754, 'conditioning': 1401, 'roof': 4987, 'raising': 4706, 'clearity': 1254, 'stupidest': 5575, 'millenium': 3756, 'satisfaction': 5066, 'overpowered': 4174, 'distorted': 1875, 'loudest': 3531, 'pain': 4192, 'hwhat': 2979, 'electromotive': 2048, 'emf': 2065, 'galvanic': 2589, 'cell': 1125, 'collège': 1306, 'popkomm': 4437, 'moving': 3851, 'fits': 2420, 'mass': 3643, 'pushing': 4653, 'nature': 3912, 'beds': 787, 'ended': 2088, 'timbres': 5852, 'mispronounced': 3778, 'comments': 1333, 'havard': 2821, 'coats': 1283, 'fortunate': 2499, 'timer': 5855, 'overworked': 4177, 'visiting': 6224, 'nh': 3969, 'claim': 1232, 'pardon': 4227, 'quid': 4676, 'pro': 4556, 'quo': 4681, 'exchange': 2215, 'nixon': 3989, 'resignation': 4896, 'neutrality': 3958, 'rhinoceros': 4941, 'mallets': 3605, 'brother': 965, 'coolerlocation': 1499, 'double': 1917, 'decker': 1678, 'freedom': 2535, 'carried': 1084, 'tacit': 5695, 'recognition': 4767, 'distinct': 1869, 'bahrain': 721, 'pack': 4184, 'professional': 4578, 'flavor': 2433, 'separately': 5176, 'colonial': 1307, 'buildings': 983, 'responsive': 4910, 'default': 1694, 'proposed': 4607, 'matter': 3661, 'duchy': 1962, 'russian': 5020, 'sour': 5390, 'moves': 3848, 'restrict': 4915, 'autonomy': 677, 'success': 5599, 'colleges': 1301, 'employ': 2075, 'politeness': 4427, 'exposure': 2250, 'larva': 3351, 'breathing': 943, 'films': 2385, 'describing': 1758, 'quirky': 4679, 'weird': 6312, 'routes': 5003, 'supplemented': 5638, 'frogs': 2553, 'crayfish': 1563, 'crabs': 1549, 'magazines': 3576, 'library': 3433, 'macropodidae': 3570, 'macropods': 3571, 'perhaps': 4293, 'expectations': 2232, 'oses': 4146, 'tend': 5760, 'functional': 2568, 'pizazz': 4371, 'shortcuts': 5242, 'crafted': 1551, 'emancipation': 2061, 'proclamation': 4564, 'appearing': 544, 'ensembles': 2114, 'benefits': 816, 'paddington': 4188, 'sibiu': 5259, 'transylvania': 5950, 'generalized': 2620, 'binomial': 839, 'theorem': 5802, 'clumsy': 1271, 'sufficient': 5608, 'detail': 1777, 'w7': 6250, 'repeat': 4856, 'curvature': 1616, 'retracted': 4928, 'sticking': 5507, 'qataris': 4663, 'negotiator': 3942, 'respected': 4904, 'entrepreneur': 2125, 'muhammed': 3863, 'bin': 838, 'thani': 5789, 'jefferson': 3222, 'lewis': 3430, 'nominative': 4000, 'swarm': 5671, 'apples': 548, 'brillant': 955, '12': 22, 'formally': 2489, 'digest': 1813, 'boots': 902, 'rid': 4946, 'phenomenal': 4322, 'ate': 631, 'noch': 3994, 'una': 6036, 'corda': 1508, 'bitches': 852, 'babies': 708, 'cubs': 1603, 'pups': 4638, 'magellan': 3577, 'told': 5875, 'freeways': 2538, 'thinks': 5817, 'finds': 2394, 'hike': 2890, 'buckingham': 974, 'pronounced': 4596, 'managment': 3614, 'baltic': 729, 'finnic': 2407, 'subgroup': 5585, 'uralic': 6107, 'acura': 334, 'fashion': 2313, 'convert': 1493, 'dvds': 1973, 'dvix': 1974, 'avi': 690, 'wizard': 6385, 'load': 3489, 'slot': 5332, '700mb': 244, 'shield': 5223, 'forewings': 2485, 'oceans': 4061, 'lunar': 3552, 'eyeballs': 2270, 'scorched': 5102, 'seared': 5125, 'scarred': 5084, 'academy': 288, 'exits': 2225, 'literature': 3480, 'bars': 746, 'rosewood': 4995, '92': 259, 'resource': 4902, 'ration': 4724, 'flattens': 2432, 'visible': 6220, 'representation': 4865, 'intrument': 3153, 'wallonia': 6265, 'supporters': 5642, 'clay': 1247, '1848': 81, 'highlander': 2884, 'xylophonese': 6439, 'select': 5156, 'daniel': 1643, 'accent': 292, 'clearing': 1253, 'throat': 5835, 'imagined': 3012, 'orchestras': 4125, 'leadership': 3378, 'conductors': 1404, 'yevgeny': 6450, 'mravinsky': 3858, 'yuri': 6459, 'temirkanov': 5755, 'cleptoparasitic': 1255, 'ness': 3948, 'drove': 1953, 'sinister': 5298, '1880': 96, 'discernible': 1845, 'scare': 5083, 'pajamas': 4200, 'plural': 4410, '20415': 169, '24403': 182, '30070': 202, 'lunchbox': 3554, 'bento': 818, '26009': 187, '29702': 195, 'prepared': 4513, 'loan': 3491, 'folder': 2457, 'dcim': 1662, 'competition': 1356, 'examined': 2206, 'coach': 1277, 'narrow': 3899, 'deeply': 1692, 'bucketed': 973, 'taut': 5729, 'suspension': 5665, 'transmits': 5941, 'imperfections': 3020, 'spectrum': 5417, 'codes': 1285, 'outspoken': 4169, 'focus': 2455, 'viewport': 6200, 'reachable': 4733, 'edge': 2011, 'yamato': 6441, 'scholarly': 5091, 'contexts': 1465, 'rarely': 4717, 'vp': 6248, 'helsinki': 2860, 'conception': 1386, 'counterpart': 1531, 'bantu': 738, 'wholly': 6342, 'uninflected': 6061, 'moldova': 3796, 'goh': 2689, 'chok': 1201, 'tong': 5881, 'succeed': 5598, 'traveller': 5956, 'theatrical': 5794, 'staged': 5459, 'hint': 2899, 'compress': 1373, 'handbook': 2781, 'directing': 1828, 'towards': 5909, 'noisy': 3997, 'lacrosse': 3328, '1942': 126, 'territory': 5777, 'devout': 1789, 'vespoid': 6176, 'wasps': 6281, 'backlighting': 716, 'represented': 4868, 'staunch': 5493, 'antisemitism': 526, 'sympathetic': 5685, 'plight': 4405, 'poland': 4419, 'mitchell': 3784, 'nunavut': 4037, 'manager': 3612, 'wildlife': 6356, 'arguing': 585, 'camara': 1040, 'dim': 1817, 'croisic': 1586, 'romance': 4978, 'nicer': 3973, 'kagoshima': 3254, 'holed': 2918, 'mammoth': 3608, 'tusk': 6012, 'logical': 3508, 'knobs': 3297, 'dead': 1664, 'fighting': 2375, 'arena': 583, 'modeled': 3789, 'trim': 5971, 'boxing': 927, 'lessons': 3422, 'archipelagic': 573, 'greenpeace': 2734, 'resources': 4903, 'stock': 5518, 'profitable': 4581, 'xle': 6432, 'indie': 3065, 'punk': 4637, 'band': 731, 'learned': 3386, 'electrochemical': 2044, 'isolated': 3185, 'fitted': 2421, 'deceive': 1674, '63': 239, 'beliefs': 805, 'facts': 2286, '2006': 165, 'chemist': 1182, 'urbanized': 6110, 'hibernate': 2877, 'searching': 5124, 'managed': 3610, 'substantial': 5596, 'declines': 1683, 'equivalently': 2140, 'marriott': 3634, 'locations': 3501, 'farmed': 2309, 'awhile': 704, '9th': 263, '1776': 59, 'noble': 3993, 'piedmont': 4356, 'cephalopod': 1139, 'christmas': 1212, 'wasp': 6280, 'ancestors': 483, 'cretaceous': 1574, '110': 21, '130': 29, 'diversified': 1885, 'flowering': 2446, 'locomotion': 3503, 'dictionaries': 1798, 'latter': 3361, 'alternative': 452, 'judges': 3242, 'reptiles': 4873, 'cornet': 1511, 'mellower': 3699, 'tone': 5879, 'ducklings': 1964, 'purfling': 4643, 'decoration': 1685, 'tuberculosis': 5992, 'cranked': 1555, 'bluetooth': 879, 'anyway': 535, 'intersection': 3145, 'upset': 6106, 'straining': 5538, 'cook': 1497, 'kangooroo': 3257, 'drawback': 1940, 'customizable': 1619, 'synthesis': 5691, 'carbon': 1070, 'chlorine': 1197, 'fab': 2276, 'waitrose': 6257, 'integer': 3122, 'division': 1888, 'cab': 1019, 'convienent': 1495, 'consequently': 1434, 'painter': 4195, 'regard': 4801, 'bourgeois': 919, 'kitsch': 3292, 'suharto': 5612, 'resign': 4895, 'darker': 1645, 'fur': 2575, 'occupied': 4058, 'tremendous': 5965, 'announced': 507, 'bass': 754, 'industrialized': 3075, 'retrieved': 4929, 'functionality': 2569, 'bite': 853, 'naturalists': 3911, 'distinguish': 1871, 'panthers': 4218, 'lasts': 3355, 'tool': 5886, 'aging': 399, 'february': 2334, 'beak': 770, 'mouth': 3843, '38th': 217, 'thumbpolar': 5842, 'controversial': 1485, 'habitat': 2767, 'practiced': 4483, 'fredericksburg': 2533, 'interaction': 3129, 'stirred': 5515, 'alchemy': 427, 'realize': 4746, 'frog': 2552, 'detector': 1779, 'tuning': 5998, 'bundesländer': 993, 'accept': 294, 'rhine': 4940, 'westphalia': 6319, 'bavaria': 763, 'attributed': 652, 'guangzhou': 2750, 'cantonese': 1058, 'putonghua': 4656, 'taiwanese': 5704, 'guoyu': 2762, 'feminines': 2353, 'declined': 1682, 'singular': 5297, 'exclusive': 2217, 'classification': 1243, 'legible': 3405, 'charging': 1166, 'deepest': 1691, 'relation': 4818, 'credit': 1572, 'developing': 1785, 'calculus': 1031, 'queen': 4669, 'ricky': 4945, 'sept': 5178, '06': 5, 'violas': 6207, 'orchestral': 4124, 'technically': 5742, 'human': 2966, 'nouns': 4026, 'grammatically': 2714, 'thus': 5843, 'presumptuous': 4527, 'verbatim': 6167, 'cheetahs': 1177, 'carnivore': 1081, 'jeong': 3224, 'jae': 3205, 'estimate': 2164, 'wary': 6276, 'sarah': 5060, 'barnard': 744, 'nests': 3949, '1602': 38, 'company': 1351, 'voyage': 6247, 'commanded': 1328, 'sir': 5302, 'aceh': 312, 'sailed': 5038, 'banten': 737, 'coleman': 1292, 'sufficently': 5607, 'occassional': 4055, 'travelled': 5955, '47': 225, 'possibility': 4462, 'adjusting': 355, 'drop': 1952, 'extortionate': 2265, 'expensive': 2235, 'didnt': 1802, 'outlets': 4165, 'demonstrate': 1732, 'alveolar': 455, 'affricates': 386, 'postalveolars': 4465, 'picks': 4350, 'shapes': 5211, 'women': 6389, 'suffrage': 5609, 'filter': 2386, 'beaks': 771, 'upgrading': 6098, 'heard': 2838, 'tough': 5901, '2004': 163, '2100': 174, 'undergroud': 6044, 'consolidated': 1446, 'encompass': 2083, 'schol': 5090, 'grantham': 2718, 'styles': 5578, 'incorporated': 3043, '1832': 78, 'writings': 6426, '1833': 79, 'rode': 4970, 'plethora': 4403, 'ports': 4454, 'phaenomenis': 4319, 'inde': 3054, 'pendentibus': 4272, 'snobs': 5352, 'treat': 5959, 'zealand': 6461, 'rugby': 5009, 'featured': 2331, 'otahuhu': 4149, 'tamaki': 5716, 'wonder': 6391, 'acer': 313, 'parks': 4232, 'erire': 2147, 'montpeillier': 3816, '1st': 157, 'railway': 4697, 'configured': 1408, 'operation': 4111, 'robert': 4962, 'fulton': 2564, 'pierre': 4358, 'auguste': 658, 'limoges': 3455, 'haute': 2820, 'vienne': 6194, 'provide': 4616, 'occult': 4056, 'bonny': 894, 'abstemious': 282, '1865': 90, 'geographically': 2633, 'ethnically': 2172, 'diverse': 1883, 'reproduce': 4870, 'hassaniya': 2816, 'mauritania': 3665, 'lights': 3444, 'casted': 1094, 'fusing': 2579, 'severe': 5197, 'fly': 2452, 'recently': 4760, 'stand': 5463, 'appreciated': 556, 'terrain': 5771, 'artificially': 604, 'constellation': 1451, 'resemble': 4885, 'catchment': 1102, 'introduce': 3151, 'bicameral': 832, 'legislature': 3406, 'approximately': 562, '0221415': 3, 'subjected': 5587, 'terrorism': 5778, 'aroung': 593, 'poorer': 4436, 'lovers': 3539, '1992': 146, 'mature': 3664, 'wiser': 6378, 'gains': 2584, 'incremental': 3051, 'appealing': 541, 'tantalizing': 5719, '249': 183, '30gb': 203, '349': 211, 'kelon': 3263, 'blotches': 873, 'follow': 2459, 'urbanization': 6109, 'eliminated': 2056, 'rainforest': 4701, 'remaining': 4836, 'bukit': 985, 'timah': 5850, 'provinces': 4621, 'proto': 4613, 'cubist': 1602, 'demoiselles': 1730, 'avignon': 693, '1907': 110, 'guernica': 2754, '1937': 125, 'portrayal': 4453, 'dislike': 1857, 'knew': 3296, 'mikrolets': 3748, 'maasai': 3563, 'enkare': 2109, 'nyirobi': 4039, 'translates': 5937, 'waters': 6287, 'uninstall': 6062, 'virus': 6218, 'programs': 4584, 'listings': 3476, 'panel': 4215, 'section': 5138, 'husband': 2977, 'hurt': 2975, 'gap': 2594, 'click': 1257, 'wheel': 6326, 'damaging': 1637, 'portrait': 4452, '1000': 10, 'bill': 837, '1928': 121, '1946': 127, 'jeju': 3223, 'classified': 1244, 'entered': 2116, 'retirement': 4927, 'spain': 5404, 'neighborhoods': 3944, 'headstock': 2834, 'autobiography': 672, '1929': 122, 'syndicated': 5689, 'column': 1313, 'says': 5081, '1930': 123, '1931': 124, '321': 208, 'covers': 1547, 'defend': 1697, 'dwindled': 1975, 'eventually': 2188, 'hartford': 2810, 'convention': 1489, 'kilometres': 3280, 'commercial': 1334, 'centres': 1137, 'grevy': 2735, 'satisfied': 5068, 'costly': 1519, 'smoothing': 5347, 'exacerbated': 2203, 'whiteness': 6337, 'housing': 2953, 'festival': 2359, 'fireworks': 2413, 'celebrating': 1123, 'census': 1132, 'resided': 4891, 'hey': 2875, 'functions': 2570, 'absent': 278, 'tradeoff': 5919, 'communities': 1345, 'myth': 3888, 'ransom': 4712, 'volsunga': 6237, 'saga': 5034, 'intermittent': 3140, 'odd': 4066, 'glitches': 2673, 'pittsburgh': 4368, 'caters': 1106, 'airline': 416, 'personnel': 4307, '1796': 62, 'ruled': 5011, 'redesign': 4780, 'desegregation': 1761, 'disputes': 1863, 'handed': 2782, 'automobile': 675, 'enthusiast': 2118, 'lengthy': 3413, 'justification': 3250, 'listed': 3473, 'healthy': 2836, 'doable': 1893, 'gardens': 2598, 'thrive': 5833, 'ecosystems': 2008, '364': 215, 'justice': 3249, 'franklin': 2529, 'looked': 3517, 'feathers': 2329, 'racked': 4687, 'debts': 1672, 'geminate': 2613, 'plosives': 4406, 'realised': 4745, 'lengthened': 3412, 'closures': 1268, 'dvd': 1972, 'chemistry': 1183, 'studied': 5569, 'prestigious': 4526, 'collge': 1302, 'fire': 2410, '71': 245, 'log': 3507, 'cabin': 1020, 'summerhill': 5622, 'protruding': 4615, 'removable': 4845, 'track': 5916, 'disable': 1833, 'marn': 3632, 'grook': 2741, 'kurnai': 3318, 'engaging': 2094, 'sedating': 5143, 'nitrous': 3988, 'oxide': 4181, 'laughing': 3362, 'remove': 4846, 'jaw': 3217, 'portions': 4451, 'palate': 4206, 'besides': 823, 'austronesia': 666, 'reunification': 4933, 'moden': 3791, 'monrow': 3811, 'quoted': 4683, 'thomas': 5823, 'survives': 5663, 'approximate': 561, 'sustain': 5666, 'worlds': 6409, 'riders': 4948, 'tells': 5754, 'everybody': 2191, 'volumes': 6241, '60': 234, 'distortion': 1876, 'blown': 875, 'bust': 1004, 'nefertiti': 3937, 'alongside': 444, 'tonal': 5878, 'analytical': 479, 'distinguishing': 1873, 'equipped': 2139, 'devices': 1788, 'cartier': 1088, 'donnacona': 1914, 'stadacona': 5456, 'student': 5567, 'biologist': 843, 'checked': 1175, 'transatlantic': 5931, 'octopuses': 4065, 'cirrina': 1224, 'fins': 2409, 'chrysler': 1215, '300': 201, 'dash': 1647, 'oxford': 4180, 'announce': 506, 'disc': 1844, '1642': 39, 'defeated': 1696, 'badger': 719, 'blending': 863, 'beginning': 799, 'preared': 4491, 'mainly': 3585, 'reptile': 4872, 'aspects': 616, 'architecture': 576, 'booked': 897, 'availibility': 682, 'accomodate': 302, 'coolidges': 1501, 'allerton': 434, 'diplomat': 1825, 'archibald': 572, 'cary': 1090, 'branches': 933, 'drake': 1937, 'åland': 6479, 'islands': 3182, 'compulsory': 1378, '1794': 61, 'copley': 1504, 'foie': 2456, 'gras': 2720, 'bow': 921, 'reduced': 4782, 'descriptions': 1760, 'understood': 6050, 'loss': 3526, 'bali': 725, 'republicans': 4876, '120': 23, 'combine': 1316, 'draw': 1939, '140': 32, 'breeding': 946, 'navy': 3920, 'ships': 5230, 'objects': 4044, 'activities': 329, 'antonio': 527, 'stradivari': 5534, 'fuss': 2580, 'kosher': 3309, 'mpgs': 3855, 'definite': 1703, 'onsite': 4100, 'vouch': 6244, 'avialable': 691, 'obtain': 4048, 'forested': 2483, 'zulu': 6477, 'arrange': 594, 'sovereign': 5397, 'singa': 5291, 'oslo': 4147, 'salmon': 5043, 'enthusiasts': 2119, '1819': 74, 'gestation': 2641, 'foods': 2469, 'sightsee': 5269, 'nearest': 3927, 'calligraphy': 1037, 'invented': 3159, 'beetle': 794, 'differentiated': 1810, '1899': 106, 'accessible': 298, 'antietam': 525, 'slide': 5327, 'monument': 3819, 'niagara': 3970, 'falls': 2296, 'adverbs': 373, 'predicate': 4500, 'mate': 3652, 'guarded': 2752, 'industrial': 3074, '1745': 51, 'investigation': 3165, 'friction': 2546, 'ultraviolet': 6033, '1881': 97, 'benefited': 815, 'innovations': 3098, 'francesca': 2524, 'di': 1792, 'neri': 3946, 'miniato': 3763, 'siena': 5265, 'pest': 4312, 'potato': 4467, 'ref': 4784, 'democratic': 1728, 'hesitating': 2872, 'surge': 5649, 'windshield': 6366, 'wipers': 6374, 'falling': 2295, 'unreliable': 6083, 'windshild': 6367, 'blacks': 858, 'moth': 3832, 'coat': 1282, '1730': 46, 'furnishings': 2576, 'bonneville': 893, 'refined': 4791, 'shooting': 5234, 'cyborg': 1623, 'sepia': 5177, 'experimental': 2239, 'sperm': 5425, 'transferred': 5934, 'eves': 2197, 'fight': 2374, 'chew': 1186, 'stronghold': 5560, 'predicted': 4501, 'k1': 3252, 'crisper': 1579, 'lol': 3509, 'caridoid': 1077, 'escape': 2152, '316': 206, 'latest': 3359, 'collision': 1303, 'stills': 5513, 'whate': 6324, 'rich': 4942, 'wars': 6275, 'affect': 381, 'bullet': 990, 'retailers': 4923, 'taxable': 5731, '546': 229, 'marginal': 3625, 'sales': 5042, 'account': 308, 'vat': 6153, 'educational': 2017, 'keeping': 3261, 'dangerous': 1642, 'hesitations': 2874, 'direction': 1829, 'buses': 999, 'whare': 6322, 'wires': 6376, 'traps': 5951, 'keeps': 3262, 'tsar': 5987, '1703': 43, 'hundred': 2969, '1713': 44, '1728': 45, '1732': 47, 'december': 1675, 'awakening': 697, 'crank': 1554, 'readers': 4741, 'koalas': 3304, 'exterminated': 2261, 'repopulated': 4860, 'victorian': 6189, 'historical': 2906, 'phoneme': 4326, 'tad': 5697, 'apprenticed': 557, 'fuller': 2561, 'neck': 3931, 'furthest': 2578, 'lx': 3560, 'antarctic': 516, 'battente': 759, 'nominate': 3998, 'diseases': 1853, 'thriving': 5834, 'specimens': 5415, 'amateur': 458, 'collectors': 1299, 'vegetarian': 6159, 'historian': 2904, 'helen': 2852, 'gardner': 2599, 'scope': 5101, 'depth': 1747, 'precedent': 4492, 'superhuman': 5633, 'mysterious': 3887, 'adephaga': 346, 'polyphaga': 4433, 'vacationer': 6134, 'comforting': 1323, 'oecd': 4069, 'seward': 5199, 'senate': 5165, '42': 223, 'nicknamed': 3976, 'anina': 501, 'offered': 4074, 'regionalism': 4808, 'green': 2732, 'understanding': 6049, 'compressed': 1374, 'units': 6070, 'mentioning': 3713, 'crap': 1556, 'copy': 1506, 'harvard': 2811, 'yuan': 6458, 'shikai': 5227, 'leathery': 3390, 'soft': 5359, 'armed': 589, 'zhou': 6466, 'dynasties': 1977, 'oberland': 4041, 'elmina': 2057, 'purchasing': 4642, 'translation': 5938, 'misleadingly': 3777, 'verbs': 6168, 'scots': 5106, 'scottish': 5107, 'akhenaten': 421, 'pharaoh': 4320, 'sanskrit': 5057, 'spectator': 5416, 'illegal': 3003, 'gambling': 2590, 'hobby': 2912, 'seeking': 5146, 'damselflies': 1640, 'insects': 3103, 'technique': 5743, 'thinking': 5816, 'nineteen': 3985, 'flippers': 2440, 'useless': 6123, 'graceful': 2707, 'predator': 4497, 'layed': 3370, 'fundamental': 2572, 'wrought': 6430, 'ereader': 2142, 'offer': 4073, 'mechanisms': 3689, 'horizontal': 2937, 'teleprompter': 5750, 'choosing': 1204, 'mph': 3856, 'map': 3621, 'silent': 5277, 'patterns': 4253, '622': 238, '650': 241, 'greater': 2726, 'promised': 4590, 'cardiff': 1072, 'straight': 5535, 'm4': 3562, 'a4': 264, 'reaching': 4735, 'punishment': 4636, 'murder': 3871, 'plane': 4380, 'biological': 842, 'members': 3701, 'indicate': 3062, 'bitter': 855, 'volatile': 6235, 'expressing': 2252, 'extraordinary': 2267, 'fear': 2328, 'policies': 4423, 'parliamentary': 4234, 'roots': 4992, 'register': 4810, 'follows': 2462, 'stocked': 5519, 'hide': 2879, 'cancer': 1051, 'surgery': 5650, 'filippo': 2380, 'strozzi': 5562, 'hadn': 2771, 'attracts': 651, 'humor': 2968, 'silliness': 5279, 'attractively': 650, 'bathroom': 756, 'plumbing': 4409, 'gurgle': 2763, 'bang': 732, 'iron': 3175, 'bathrobe': 755, 'slippers': 5330, 'channels': 1157, 'bettered': 827, 'bumped': 992, 'magnification': 3581, 'criticism': 1582, 'stark': 5472, 'indicating': 3063, 'ahead': 410, 'paid': 4191, 'briefly': 951, 'wallabies': 6264, 'adept': 347, 'thedore': 5795, 'scutes': 5119, 'sequenced': 5180, 'input': 3099, 'obnoxious': 4046, 'germanic': 2639, 'sainsbury': 5039, 'aforesaid': 387, 'performances': 4291, 'rihanna': 4955, 'maynard': 3672, 'ferguson': 2356, 'accurately': 310, 'orientation': 4137, 'memoria': 3706, 'reclusive': 4765, 'entities': 2123, 'mole': 3797, '1850': 84, 'dismantled': 1858, 'partisan': 4241, 'sectional': 5139, 'coalitions': 1278, 'berliner': 822, 'dom': 1905, 'morphemes': 3827, 'mess': 3720, 'inverse': 3161, 'hourglass': 2948, 'friend': 2548, 'toook': 5890, 'uploaded': 6100, 'facebook': 2279, 'novel': 4028, 'supported': 5641, 'shoulder': 5247, '1824': 76, 'funcionality': 2566, '1765': 56, 'samantha': 5045, 'colectivo': 1291, 'co': 1276, 'cairns': 1026, 'exporters': 2246, 'products': 4575, 'touring': 5903, 'precursor': 4496, 'interested': 3133, 'vacation': 6133, 'barest': 742, 'nauen': 3914, 'playful': 4392, 'days': 1659, 'imperial': 3021, 'excelent': 2209, 'braking': 932, '2050': 170, 'interlingual': 3139, 'comprehension': 1371, 'oral': 4122, 'jazz': 3220, 'artwork': 607, 'efficiency': 2023, 'exposed': 2249, 'developed': 1784, 'plains': 4378, 'crossed': 1589, 'alexander': 429, 'eventhough': 2186, 'nike': 3981, 'aware': 700, 'sticker': 5506, 'herbivores': 2866, 'relax': 4823, 'ending': 2089, 'session': 5190, 'headache': 2828, 'cholera': 1202, 'outbreak': 4161, 'lanky': 3342, 'cheetah': 1176, 'crown': 1594, 'pizarro': 4370, 'filming': 2384, 'significant': 5274, 'contributors': 1481, 'link': 3464, 'goodies': 2696, 'garage': 2595, 'images': 3011, 'catering': 1104, 'bockwinkels': 884, 'drinks': 1945, 'aon': 537, 'grandfather': 2716, 'offices': 4077, 'unusual': 6088, 'ran': 4708, 'fixes': 2426, 'epaper': 2132, 'frame': 2520, 'ludovico': 3547, 'peregrini': 4286, 'tax': 5730, 'regime': 4805, 'september': 5179, 'hampton': 2779, '1867': 91, 'declining': 1684, 'participation': 4237, 'romanization': 4981, 'colder': 1290, 'cluster': 1272, 'likes': 3450, 'pythons': 4661, 'attracted': 645, 'europeans': 2179, 'trying': 5986, 'superorder': 5637, 'chelonia': 1179, 'rumors': 5014, 'virgin': 6215, 'jackson': 3203, 'abstract': 283, 'expressionist': 2254, 'un': 6035, 'peacekeeping': 4263, 'tremors': 5967, 'whether': 6330, 'gigantic': 2654, 'palaeeudyptines': 4204, 'constitute': 1452, 'monophyletic': 3809, 'lineage': 3458, 'gigantism': 2655, 'evolved': 2201, 'independently': 3058, 'palaeeudyptinae': 4203, 'anthropornithinae': 521, 'sights': 5268, 'downtown': 1930, 'oh': 4083, '64gb': 240, 'dictionary': 1799, 'shown': 5252, 'malays': 3597, 'srivijaya': 5453, 'vattenfall': 6154, 'shifting': 5225, 'reliance': 4829, 'cleaner': 1249, 'renewable': 4850, 'tz': 6027, 'preceding': 4493, 'santo': 5059, 'iago': 2989, 'drummers': 1957, 'drumheads': 1956, 'pocket': 4414, 'ceded': 1120, 'downshifting': 1927, 'grades': 2709, 'stamford': 5460, 'raffles': 4693, 'indifferent': 3066, 'turkey': 6002, 'crime': 1576, 'planning': 4381, 'hiking': 2891, 'dome': 1906, 'accompanying': 304, 'port': 4448, 'samuel': 5049, 'champlain': 1150, 'cylindrical': 1628, 'caldwell': 1032, 'jersey': 3226, 'reverend': 4934, 'richard': 4943, 'anne': 503, 'neal': 3924, 'introduction': 3152, 'adopt': 365, '1965': 133, 'metabolism': 3722, 'employed': 2076, 'rochelle': 4964, 'earth': 1986, 'arabia': 568, 'rapids': 4715, 'urge': 6111, 'bartel': 747, 'jonkman': 3237, 'incumbent': 3053, 'cruising': 1597, 'comprehensive': 1372, 'bartolomeo': 748, 'cristofori': 1581, 'identity': 2997, 'fragmentary': 2518, 'disunified': 1881, 'culturally': 1607, 'provocative': 4623, 'upload': 6099, 'parties': 4240, 'descibed': 1755, 'error': 2149, 'fictional': 2365, 'unobstructed': 6079, 'vibraphones': 6183, 'exist': 2221, 'resturant': 4918, 'specials': 5412, 'eaters': 1998, 'caroline': 1083, 'mcintosh': 3674, 'advise': 378, 'crimean': 1577, 'epa': 2131, 'allotted': 436, 'ìfoodî': 6481, 'comparatively': 1352, 'ballot': 728, 'palmer': 4210, 'democrats': 1729, 'tariffs': 5720, 'daffy': 1634, 'summers': 5623, 'starry': 5473, 'eyed': 2271, 'anticipation': 523, 'technical': 5741, 'activation': 327, 'sphinx': 5427, 'pyramids': 4660, 'giza': 2666, 'interred': 3144, 'ancestor': 482, 'generators': 2625, 'eve': 2182, 'ncame': 3922, 'lira': 3471, 'banknote': 735, 'euro': 2176, 'cede': 1119, '1763': 54, 'sounding': 5387, 'raining': 4703, 'uou': 6090, 'soaked': 5355, 'blends': 864, 'attractive': 649, 'driveablity': 1947, '100000': 11, 'cat': 1097, 'suborders': 5590, 'bows': 924, 'institute': 3113, 'storyteller': 5533, 'sensor': 5171, 'streets': 5544, 'match': 3651, 'selangor': 5155, 'computerized': 1381, 'palatal': 4205, 'nasal': 3900, 'initial': 3091, 'perkins': 4296, 'harnesses': 2805, 'saddles': 5030, 'hides': 2880, 'prosperous': 4610, 'galena': 2585, 'mentions': 3714, 'crutches': 1599, 'organisations': 4131, 'outraged': 4167, 'blowing': 874, 'lips': 3469, 'producing': 4570, 'buzzing': 1016, 'wave': 6290, 'vibration': 6184, 'xylophonists': 6440, 'theatre': 5793, 'propel': 4600, 'chemists': 1184, 'exact': 2204, 'amounts': 476, 'substances': 5595, 'specifics': 5414, 'prefix': 4508, 'object': 4042, 'nymphs': 4040, 'hunt': 2972, 'businesses': 1003, '1977': 140, 'eldest': 2037, 'sibling': 5260, 'spite': 5429, 'respiration': 4906, 'freshwater': 2545, 'emigrated': 2066, 'cambridge': 1041, 'apostle': 539, '1894': 103, 'joined': 3236, 'seconds': 5134, 'favorites': 2324, 'classics': 1242, 'sensing': 5169, 'sllek': 5331, 'upgraded': 6097, 'caching': 1023, 'verifiable': 6169, 'dive': 1882, 'deep': 1689, 'kwajalein': 3320, 'eniwetok': 2103, 'negation': 3938, 'harmonics': 2803, 'notes': 4018, 'assistant': 622, 'davy': 1655, 'capturing': 1068, 'boasted': 883, 'sizeable': 5315, '1869': 92, 'appointment': 554, 'intendant': 3126, 'eaux': 2000, 'fontaine': 2464, 'hutongs': 2978, 'disappearing': 1839, 'conquered': 1431, '1809': 68, 'divisions': 1889, 'sinitic': 5299, 'catalan': 1099, 'vending': 6163, 'soda': 5358, 'downloadable': 1922, 'integrated': 3123, 'inflections': 3081, 'honorific': 2932, 'actions': 326, 'unusable': 6087, 'snip': 5351, 'sticky': 5509, 'task': 5723, 'clutter': 1274, 'housed': 2951, 'boston': 911, 'shoes': 5232, 'vid': 6190, 'def': 1693, 'maine': 3583, '16g': 41, 'travelcard': 5954, 'midday': 3742, 'breaks': 941, 'microphone': 3738, 'achieve': 315, 'consistently': 1443, 'praise': 4487, 'immaculately': 3013, 'assassination': 619, 'kennedy': 3264, 'approached': 558, 'stewardess': 5505, 'assured': 625, 'diversely': 1884, 'talented': 5709, 'municipality': 3870, 'marine': 3626, 'recognizable': 4768, 'employer': 2078, 'founding': 2511, 'embodied': 2064, '1968': 134, '1971': 136, 'archetype': 571, 'unquenchable': 6080, 'curiosity': 1610, 'equaled': 2135, 'fingers': 2401, 'brand': 935, 'whiskey': 6333, 'crow': 1592, 'ninth': 3986, 'footsteps': 2473, 'toward': 5908, 'ave': 685, 'plently': 4401, 'breckinridge': 944, 'principality': 4547, 'standardized': 5465, 'flamenco': 2430, 'erect': 2143, 'bristle': 958, 'hackles': 2769, 'buys': 1015, 'larest': 3346, 'territorial': 5775, 'universidad': 6072, 'méxico': 3891, 'instituto': 3115, 'cervantes': 1142, 'transcription': 5932, 'catholic': 1109, 'interim': 3137, 'authority': 670, 'whales': 6321, 'arrow': 599, 'approaching': 559, 'tower': 5910, 'jari': 3214, 'litmanen': 3481, 'sami': 5047, 'hyypiä': 2987, 'notting': 4024, 'dizzy': 1890, 'gillespie': 2657, 'photo': 4331, 'capabilities': 1059, 'electrolysis': 2046, 'affecting': 383, 'piter': 4367, 'forage': 2475, 'suck': 5602, 'sucks': 5603, 'circular': 1221, 'fingerboard': 2397, 'efficiently': 2025, 'packs': 4186, 'newly': 3963, 'reclassified': 4764, 'heliport': 2854, 'balzers': 730, 'helicopter': 2853, 'flights': 2439, '1920s': 119, 'silly': 5280, 'neglect': 3941, 'photography': 4334, 'discoverers': 1849, 'opening': 4105, 'consonant': 1447, 'clusters': 1273, 'administers': 358, 'railways': 4698, 'composed': 1368, 'finlandia': 2405, 'profess': 4576, 'transverse': 5949, 'weeks': 6308, 'accident': 299, 'fixable': 2424, 'prior': 4553, 'ky': 3322, 'rav4': 4726, 'heart': 2840, 'lexus': 3432, 'bumblebee': 991, 'peak': 4264, 'crowds': 1593, 'believers': 808, 'kiss': 3290, 'thorn': 5824, 'acclaimed': 301, 'uruguayans': 6113, 'anatomy': 481, 'uniform': 6060, 'conflict': 1410, 'childbirth': 1192, '1772': 57, 'violence': 6208, 'ku': 3314, 'klux': 3294, 'klan': 3293, 'antartica': 517, 'recommed': 4771, 'teresa': 5766, 'comic': 1324, 'endangering': 2087, 'scratchiness': 5110, 'supporting': 5643, 'ascend': 609, 'opinion': 4112, 'gut': 2764, 'catching': 1101, 'hop': 2933, 'cathedrals': 1108, 'scattered': 5085, 'closure': 1267, 'uncover': 6042, 'chaloner': 1147, 'monarchy': 3804, 'tasting': 5726, 'travelzoo': 5957, 'pp': 4478, 'infrared': 3088, 'disables': 1834, 'underlying': 6046, 'davis': 1654, 'christianity': 1211, 'protect': 4611, 'vehicale': 6160, 'alter': 450, 'disaster': 1843, 'ergonomic': 2144, 'affairs': 380, 'arriving': 598, 'turles': 6004, 'beard': 774, 'homosexual': 2927, 'intentionally': 3128, 'roma': 4976, 'bottles': 915, 'fridge': 2547, 'signal': 5272, 'warning': 6272, 'quot': 4682, '1949': 130, 'communist': 1344, 'shoots': 5235, 'expert': 2241, 'enormous': 2112, 'dynamic': 1976, 'principles': 4549, 'explain': 2243, 'itouch': 3196, 'burglarized': 994, 'andwas': 490, 'waiting': 6256, 'stored': 5526, 'contributes': 1477, 'legally': 3402, 'inhabited': 3090, 'millennia': 3757, 'aboriginal': 272, 'frequented': 2542, 'russell': 5018, 'moche': 3786, 'worship': 6414, 'mozambique': 3852, 'nationals': 3905, 'liechtensteiners': 3436}\n"
     ]
    }
   ],
   "source": [
    "whole1, vecountdf = cvectorizer(origdf)"
   ]
  },
  {
   "cell_type": "code",
   "execution_count": 0,
   "metadata": {
    "colab": {},
    "colab_type": "code",
    "id": "0TqVGckLLgZO"
   },
   "outputs": [],
   "source": [
    "train1, validate1, test1 = threeSplit_DataSet(whole1)"
   ]
  },
  {
   "cell_type": "code",
   "execution_count": 0,
   "metadata": {
    "colab": {},
    "colab_type": "code",
    "id": "ox5Htcr_MWvQ"
   },
   "outputs": [],
   "source": [
    "train_q1, test_q1, val_q1, train_rest1, test_rest1, val_rest1, train_ans1, test_ans1, val_ans1 = threeSplit_SortData(train1, test1, validate1)"
   ]
  },
  {
   "cell_type": "code",
   "execution_count": 0,
   "metadata": {
    "colab": {},
    "colab_type": "code",
    "id": "FzLOI--VKKai"
   },
   "outputs": [],
   "source": [
    "from sklearn.naive_bayes import MultinomialNB\n",
    "from sklearn.metrics import accuracy_score\n",
    "from sklearn.metrics import confusion_matrix"
   ]
  },
  {
   "cell_type": "code",
   "execution_count": 0,
   "metadata": {
    "colab": {},
    "colab_type": "code",
    "id": "wjvSGDxLKKrr"
   },
   "outputs": [],
   "source": [
    "#MULTINOMIAL NAIVE BAYES\n",
    "\n",
    "clf, predicted_val, predicted_test, predtest, training_model = MNB(train_rest1, train_ans1, val_rest1, test_rest1, val_ans1, test_ans1, test1['Sentence'])\n"
   ]
  },
  {
   "cell_type": "code",
   "execution_count": 0,
   "metadata": {
    "colab": {},
    "colab_type": "code",
    "id": "RRWKZFtZ436N"
   },
   "outputs": [],
   "source": [
    "#CHECKING ACCURACY SCORES FOR ALL AND ALL ARE ABOVE 95%\n",
    "\n",
    "train_acc = accuracy_score(train_ans1, training_model.predict(train_rest1))\n",
    "val_acc = accuracy_score(val_ans1, predicted_val )\n",
    "test_acc = accuracy_score(test_ans1, predtest[0]) \n",
    "#all above 95%"
   ]
  },
  {
   "cell_type": "code",
   "execution_count": 0,
   "metadata": {
    "colab": {
     "base_uri": "https://localhost:8080/",
     "height": 68
    },
    "colab_type": "code",
    "id": "LcSPnPdh_UZ1",
    "outputId": "e0f48f54-b422-4e16-cca1-7d9476a5efa9"
   },
   "outputs": [
    {
     "name": "stdout",
     "output_type": "stream",
     "text": [
      "Training Accuracy: 0.9729064039408867 \n",
      "Validation Accuracy: 0.9987684729064039 \n",
      "Testing Accuracy: 0.976629766297663\n"
     ]
    }
   ],
   "source": [
    "print(\"Training Accuracy:\", train_acc, \"\\nValidation Accuracy:\", val_acc, \"\\nTesting Accuracy:\", test_acc)"
   ]
  },
  {
   "cell_type": "code",
   "execution_count": 0,
   "metadata": {
    "colab": {
     "base_uri": "https://localhost:8080/",
     "height": 34
    },
    "colab_type": "code",
    "id": "r781cz1smyVV",
    "outputId": "144b1362-a8e7-443e-cc2f-7c23a9fbc226"
   },
   "outputs": [
    {
     "name": "stdout",
     "output_type": "stream",
     "text": [
      "Accuracy from first confusion matrix: 61.254612546125465 %\n"
     ]
    }
   ],
   "source": [
    "#to test algorithm: use Confusion Matrix\n",
    "\n",
    "cm_acc = confMatrix(test_ans1, predicted_test)\n",
    "print(\"Accuracy from first confusion matrix:\", (cm_acc*100),\"%\")"
   ]
  },
  {
   "cell_type": "markdown",
   "metadata": {
    "colab_type": "text",
    "id": "bB4UHWkUiPK4"
   },
   "source": [
    "2nd model: CV + 10 fold data split + MNB (with GridSearchCV)+ confusion Martix"
   ]
  },
  {
   "cell_type": "code",
   "execution_count": 0,
   "metadata": {
    "colab": {},
    "colab_type": "code",
    "id": "KliyD_GI41Sy"
   },
   "outputs": [],
   "source": [
    "x_train1, x_test1, y_train1, y_test1 = train_test_split(vecountdf, origdf['QorA'], test_size = 0.33)\n",
    "x_pred1 = tenfold(x_train1, x_test1, y_train1, y_test1, clf)"
   ]
  },
  {
   "cell_type": "code",
   "execution_count": 0,
   "metadata": {
    "colab": {
     "base_uri": "https://localhost:8080/",
     "height": 34
    },
    "colab_type": "code",
    "id": "LY7JSddqUyud",
    "outputId": "5258339d-6a5a-4a32-9bf0-93122de93a14"
   },
   "outputs": [
    {
     "name": "stdout",
     "output_type": "stream",
     "text": [
      "Accuracy from second confusion matrix: 61.44668158090977 %\n"
     ]
    }
   ],
   "source": [
    "cm_acc1 = confMatrix(y_test1, x_pred1)\n",
    "print(\"Accuracy from second confusion matrix:\", (cm_acc1*100),\"%\")"
   ]
  },
  {
   "cell_type": "markdown",
   "metadata": {
    "colab_type": "text",
    "id": "OFueixGRU0Tg"
   },
   "source": [
    "3rd model: tfidf + 3 fold split + MNB + confusion matrix"
   ]
  },
  {
   "cell_type": "code",
   "execution_count": 0,
   "metadata": {
    "colab": {
     "base_uri": "https://localhost:8080/",
     "height": 204
    },
    "colab_type": "code",
    "id": "RpJr9CHWVEGY",
    "outputId": "660a02a4-f788-42a6-c2b2-616ed55d3db5"
   },
   "outputs": [
    {
     "data": {
      "text/html": [
       "<div>\n",
       "<style scoped>\n",
       "    .dataframe tbody tr th:only-of-type {\n",
       "        vertical-align: middle;\n",
       "    }\n",
       "\n",
       "    .dataframe tbody tr th {\n",
       "        vertical-align: top;\n",
       "    }\n",
       "\n",
       "    .dataframe thead th {\n",
       "        text-align: right;\n",
       "    }\n",
       "</style>\n",
       "<table border=\"1\" class=\"dataframe\">\n",
       "  <thead>\n",
       "    <tr style=\"text-align: right;\">\n",
       "      <th></th>\n",
       "      <th>Sentence</th>\n",
       "      <th>QorA</th>\n",
       "    </tr>\n",
       "  </thead>\n",
       "  <tbody>\n",
       "    <tr>\n",
       "      <th>0</th>\n",
       "      <td>Did his mother die of pneumonia</td>\n",
       "      <td>1</td>\n",
       "    </tr>\n",
       "    <tr>\n",
       "      <th>1</th>\n",
       "      <td>Is it derived from the Latin spoken by the rom...</td>\n",
       "      <td>1</td>\n",
       "    </tr>\n",
       "    <tr>\n",
       "      <th>2</th>\n",
       "      <td>Why did Bequerel win the Nobel Prize in Physics</td>\n",
       "      <td>1</td>\n",
       "    </tr>\n",
       "    <tr>\n",
       "      <th>3</th>\n",
       "      <td>Where is Jakarta located</td>\n",
       "      <td>1</td>\n",
       "    </tr>\n",
       "    <tr>\n",
       "      <th>4</th>\n",
       "      <td>9  screens, but felt that was too much of a sa...</td>\n",
       "      <td>0</td>\n",
       "    </tr>\n",
       "  </tbody>\n",
       "</table>\n",
       "</div>"
      ],
      "text/plain": [
       "                                            Sentence  QorA\n",
       "0                   Did his mother die of pneumonia      1\n",
       "1  Is it derived from the Latin spoken by the rom...     1\n",
       "2   Why did Bequerel win the Nobel Prize in Physics      1\n",
       "3                           Where is Jakarta located     1\n",
       "4  9  screens, but felt that was too much of a sa...     0"
      ]
     },
     "execution_count": 31,
     "metadata": {
      "tags": []
     },
     "output_type": "execute_result"
    }
   ],
   "source": [
    "origdf.head()"
   ]
  },
  {
   "cell_type": "code",
   "execution_count": 0,
   "metadata": {
    "colab": {},
    "colab_type": "code",
    "id": "VN85MgvrVI3w"
   },
   "outputs": [],
   "source": [
    "origtfidfrest1 = tfidfvector(origdf)"
   ]
  },
  {
   "cell_type": "code",
   "execution_count": 0,
   "metadata": {
    "colab": {},
    "colab_type": "code",
    "id": "-x2yd-ajVJEC"
   },
   "outputs": [],
   "source": [
    "whole2 = pd.concat([origdf, origtfidfrest1], axis = 1)"
   ]
  },
  {
   "cell_type": "code",
   "execution_count": 0,
   "metadata": {
    "colab": {},
    "colab_type": "code",
    "id": "qTXvMK-KUMev"
   },
   "outputs": [],
   "source": [
    "train2, test2, validate2 = threeSplit_DataSet(whole2)"
   ]
  },
  {
   "cell_type": "code",
   "execution_count": 0,
   "metadata": {
    "colab": {},
    "colab_type": "code",
    "id": "9r5sGrIqPQ4X"
   },
   "outputs": [],
   "source": [
    "train_q2, test_q2, val_q2, train_rest2, test_rest2, val_rest2, train_ans2, test_ans2, val_ans2 = threeSplit_SortData(train2, test2, validate2)"
   ]
  },
  {
   "cell_type": "code",
   "execution_count": 0,
   "metadata": {
    "colab": {},
    "colab_type": "code",
    "id": "1BSlGJ4KPyz0"
   },
   "outputs": [],
   "source": [
    "clf2, predicted_val2, predicted_test2, predtest2, training_model2 = MNB(train_rest2, train_ans2, val_rest2, test_rest2, val_ans2, test_ans2, test2['Sentence'])"
   ]
  },
  {
   "cell_type": "code",
   "execution_count": 0,
   "metadata": {
    "colab": {},
    "colab_type": "code",
    "id": "pDPPryYgVptw"
   },
   "outputs": [],
   "source": [
    "train_acc2 = accuracy_score(train_ans2, training_model2.predict(train_rest2))\n",
    "val_acc2 = accuracy_score(val_ans2, predicted_val2 )\n",
    "test_acc2 = accuracy_score(test_ans2, predtest2[0]) "
   ]
  },
  {
   "cell_type": "code",
   "execution_count": 0,
   "metadata": {
    "colab": {
     "base_uri": "https://localhost:8080/",
     "height": 68
    },
    "colab_type": "code",
    "id": "Exnn0e_7V3Hy",
    "outputId": "61bf2acb-4010-42bc-e281-b24c663f48cc"
   },
   "outputs": [
    {
     "name": "stdout",
     "output_type": "stream",
     "text": [
      "Training Accuracy: 0.9848111658456487 \n",
      "Validation Accuracy: 1.0 \n",
      "Testing Accuracy: 0.9852216748768473\n"
     ]
    }
   ],
   "source": [
    "print(\"Training Accuracy:\", train_acc2, \"\\nValidation Accuracy:\", val_acc2, \"\\nTesting Accuracy:\", test_acc2)"
   ]
  },
  {
   "cell_type": "code",
   "execution_count": 0,
   "metadata": {
    "colab": {
     "base_uri": "https://localhost:8080/",
     "height": 34
    },
    "colab_type": "code",
    "id": "5a88mjjuWDZG",
    "outputId": "8eeab7ba-a662-459c-fe12-29423d2a1d21"
   },
   "outputs": [
    {
     "name": "stdout",
     "output_type": "stream",
     "text": [
      "Accuracy from first confusion matrix with tfidf: 58.49753694581281 %\n"
     ]
    }
   ],
   "source": [
    "cm_acc2 = confMatrix(test_ans2, predicted_test2)\n",
    "\n",
    "print(\"Accuracy from first confusion matrix with tfidf:\", (cm_acc2*100),\"%\")"
   ]
  },
  {
   "cell_type": "markdown",
   "metadata": {
    "colab_type": "text",
    "id": "0yrXCGtRXUwH"
   },
   "source": [
    "4th model: tfidf + 10 fold split + MNB (with GridSearchCV)+ confusion matrix"
   ]
  },
  {
   "cell_type": "code",
   "execution_count": 0,
   "metadata": {
    "colab": {
     "base_uri": "https://localhost:8080/",
     "height": 34
    },
    "colab_type": "code",
    "id": "LuejuTtQWee7",
    "outputId": "58340420-3889-4438-a6fb-a8340d2b5066"
   },
   "outputs": [
    {
     "name": "stdout",
     "output_type": "stream",
     "text": [
      "Accuracy from second confusion matrix with tfidf: 59.73154362416108 %\n"
     ]
    }
   ],
   "source": [
    "x_train2, x_test2, y_train2, y_test2 = train_test_split(origtfidfrest1, origdf['QorA'], test_size = 0.33)\n",
    "x_pred2 = tenfold(x_train2, x_test2, y_train2, y_test2, clf)\n",
    "\n",
    "#y_test2, x_pred2 = tenfold(origtfidfrest1, origdf, clf2)\n",
    "\n",
    "cm_acc3 = confMatrix(y_test2, x_pred2)\n",
    "\n",
    "print(\"Accuracy from second confusion matrix with tfidf:\", (cm_acc3*100),\"%\")\n",
    "\n",
    "#Conlcusion: 2nd model, seems most efficient"
   ]
  },
  {
   "cell_type": "markdown",
   "metadata": {
    "colab_type": "text",
    "id": "_bR98gy2sr5Y"
   },
   "source": [
    "5th Model: CV + 10 fold Data Split + Logistic Regression (with GridSearchCV) + confusion matrix"
   ]
  },
  {
   "cell_type": "code",
   "execution_count": 0,
   "metadata": {
    "colab": {
     "base_uri": "https://localhost:8080/",
     "height": 34
    },
    "colab_type": "code",
    "id": "wkz4gJkFswLM",
    "outputId": "75a745f2-168f-4f83-b8b3-5ff63d1bb8b2"
   },
   "outputs": [
    {
     "name": "stdout",
     "output_type": "stream",
     "text": [
      " Accuracy score of 5th model (CV + logistic regression) is 0.9880686055182699\n"
     ]
    }
   ],
   "source": [
    "origdf.head()\n",
    "\n",
    "clf3 = logregression(x_train1, y_train1, x_test1)\n",
    "x_pred3 = tenfold(x_train1, x_test1, y_train1, y_test1, clf3)\n",
    "print(\" Accuracy score of 5th model (CV + logistic regression) is\",accuracy_score(x_pred3, y))\n"
   ]
  }
 ],
 "metadata": {
  "colab": {
   "collapsed_sections": [],
   "name": "BASELINE_toucanai.ipynb",
   "provenance": [],
   "version": "0.3.2"
  },
  "kernelspec": {
   "display_name": "Python 3",
   "language": "python",
   "name": "python3"
  },
  "language_info": {
   "codemirror_mode": {
    "name": "ipython",
    "version": 3
   },
   "file_extension": ".py",
   "mimetype": "text/x-python",
   "name": "python",
   "nbconvert_exporter": "python",
   "pygments_lexer": "ipython3",
   "version": "3.7.2"
  }
 },
 "nbformat": 4,
 "nbformat_minor": 1
}
